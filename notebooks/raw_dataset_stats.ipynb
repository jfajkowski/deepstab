{
 "cells": [
  {
   "cell_type": "code",
   "execution_count": null,
   "metadata": {
    "collapsed": true
   },
   "outputs": [],
   "source": [
    "images_dataset = SequenceDataset(\n",
    "    list(glob.glob(f'../data/raw/DAVIS/JPEGImages/480p/tennis')),\n",
    "    'image',\n",
    "    sequence_length=1\n",
    ")\n",
    "masks_dataset = SequenceDataset(\n",
    "    list(glob.glob(f'../data/raw/DAVIS/Annotations/480p/tennis')),\n",
    "    'annotation',\n",
    "    sequence_length=1,\n",
    "    transform=transforms.Lambda(annotation_to_mask)\n",
    ")\n",
    "dataset = MergeDataset([images_dataset, masks_dataset], transform=transforms.ToTensor())\n",
    "data_loader = DataLoader(dataset, batch_size=1, shuffle=False)"
   ]
  }
 ],
 "metadata": {
  "kernelspec": {
   "display_name": "Python 3",
   "language": "python",
   "name": "python3"
  },
  "language_info": {
   "codemirror_mode": {
    "name": "ipython",
    "version": 2
   },
   "file_extension": ".py",
   "mimetype": "text/x-python",
   "name": "python",
   "nbconvert_exporter": "python",
   "pygments_lexer": "ipython2",
   "version": "2.7.6"
  }
 },
 "nbformat": 4,
 "nbformat_minor": 0
}