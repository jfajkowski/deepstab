{
 "cells": [
  {
   "cell_type": "code",
   "execution_count": 1,
   "metadata": {
    "collapsed": true
   },
   "outputs": [],
   "source": [
    "import glob\n",
    "from os.path import dirname, basename\n",
    "import pandas as pd\n",
    "import numpy as np\n",
    "from inpainting.load import load_dataframe\n",
    "from inpainting.utils import get_paths\n"
   ]
  },
  {
   "cell_type": "code",
   "execution_count": 2,
   "metadata": {
    "pycharm": {
     "name": "#%%\n"
    }
   },
   "outputs": [
    {
     "data": {
      "text/plain": "       frame_id  inference_time          model                sequence_name  \\\n0             0       61.071457  ii_deepfillv1  bear_paragliding-launch_002   \n1             1       61.265408  ii_deepfillv1  bear_paragliding-launch_002   \n2             2       61.270622  ii_deepfillv1  bear_paragliding-launch_002   \n3             3       55.175041  ii_deepfillv1  bear_paragliding-launch_002   \n4             4       37.858974  ii_deepfillv1  bear_paragliding-launch_002   \n...         ...             ...            ...                          ...   \n41036        28      122.652321  ii_regionfill             walking_judo_001   \n41037        29      113.137665  ii_regionfill             walking_judo_001   \n41038        30      120.471298  ii_regionfill             walking_judo_001   \n41039        31      114.824928  ii_regionfill             walking_judo_001   \n41040        32      113.251778  ii_regionfill             walking_judo_001   \n\n       mean_squared_error  peak_signal_noise_ratio  structural_similarity  \\\n0                8.538185                38.817148               0.986603   \n1                6.608233                39.929950               0.987867   \n2                9.268295                38.460805               0.986352   \n3               12.210953                37.263308               0.984801   \n4               18.366338                35.490578               0.983378   \n...                   ...                      ...                    ...   \n41036          101.306847                28.074416               0.969807   \n41037          115.875987                27.490869               0.971334   \n41038           45.878459                31.514715               0.971554   \n41039           55.003652                30.726888               0.963900   \n41040           99.381302                28.157757               0.961097   \n\n      object_sequence_name  object_id  \n0       paragliding-launch          2  \n1       paragliding-launch          2  \n2       paragliding-launch          2  \n3       paragliding-launch          2  \n4       paragliding-launch          2  \n...                    ...        ...  \n41036                 judo          1  \n41037                 judo          1  \n41038                 judo          1  \n41039                 judo          1  \n41040                 judo          1  \n\n[40797 rows x 9 columns]",
      "text/html": "<div>\n<style scoped>\n    .dataframe tbody tr th:only-of-type {\n        vertical-align: middle;\n    }\n\n    .dataframe tbody tr th {\n        vertical-align: top;\n    }\n\n    .dataframe thead th {\n        text-align: right;\n    }\n</style>\n<table border=\"1\" class=\"dataframe\">\n  <thead>\n    <tr style=\"text-align: right;\">\n      <th></th>\n      <th>frame_id</th>\n      <th>inference_time</th>\n      <th>model</th>\n      <th>sequence_name</th>\n      <th>mean_squared_error</th>\n      <th>peak_signal_noise_ratio</th>\n      <th>structural_similarity</th>\n      <th>object_sequence_name</th>\n      <th>object_id</th>\n    </tr>\n  </thead>\n  <tbody>\n    <tr>\n      <th>0</th>\n      <td>0</td>\n      <td>61.071457</td>\n      <td>ii_deepfillv1</td>\n      <td>bear_paragliding-launch_002</td>\n      <td>8.538185</td>\n      <td>38.817148</td>\n      <td>0.986603</td>\n      <td>paragliding-launch</td>\n      <td>2</td>\n    </tr>\n    <tr>\n      <th>1</th>\n      <td>1</td>\n      <td>61.265408</td>\n      <td>ii_deepfillv1</td>\n      <td>bear_paragliding-launch_002</td>\n      <td>6.608233</td>\n      <td>39.929950</td>\n      <td>0.987867</td>\n      <td>paragliding-launch</td>\n      <td>2</td>\n    </tr>\n    <tr>\n      <th>2</th>\n      <td>2</td>\n      <td>61.270622</td>\n      <td>ii_deepfillv1</td>\n      <td>bear_paragliding-launch_002</td>\n      <td>9.268295</td>\n      <td>38.460805</td>\n      <td>0.986352</td>\n      <td>paragliding-launch</td>\n      <td>2</td>\n    </tr>\n    <tr>\n      <th>3</th>\n      <td>3</td>\n      <td>55.175041</td>\n      <td>ii_deepfillv1</td>\n      <td>bear_paragliding-launch_002</td>\n      <td>12.210953</td>\n      <td>37.263308</td>\n      <td>0.984801</td>\n      <td>paragliding-launch</td>\n      <td>2</td>\n    </tr>\n    <tr>\n      <th>4</th>\n      <td>4</td>\n      <td>37.858974</td>\n      <td>ii_deepfillv1</td>\n      <td>bear_paragliding-launch_002</td>\n      <td>18.366338</td>\n      <td>35.490578</td>\n      <td>0.983378</td>\n      <td>paragliding-launch</td>\n      <td>2</td>\n    </tr>\n    <tr>\n      <th>...</th>\n      <td>...</td>\n      <td>...</td>\n      <td>...</td>\n      <td>...</td>\n      <td>...</td>\n      <td>...</td>\n      <td>...</td>\n      <td>...</td>\n      <td>...</td>\n    </tr>\n    <tr>\n      <th>41036</th>\n      <td>28</td>\n      <td>122.652321</td>\n      <td>ii_regionfill</td>\n      <td>walking_judo_001</td>\n      <td>101.306847</td>\n      <td>28.074416</td>\n      <td>0.969807</td>\n      <td>judo</td>\n      <td>1</td>\n    </tr>\n    <tr>\n      <th>41037</th>\n      <td>29</td>\n      <td>113.137665</td>\n      <td>ii_regionfill</td>\n      <td>walking_judo_001</td>\n      <td>115.875987</td>\n      <td>27.490869</td>\n      <td>0.971334</td>\n      <td>judo</td>\n      <td>1</td>\n    </tr>\n    <tr>\n      <th>41038</th>\n      <td>30</td>\n      <td>120.471298</td>\n      <td>ii_regionfill</td>\n      <td>walking_judo_001</td>\n      <td>45.878459</td>\n      <td>31.514715</td>\n      <td>0.971554</td>\n      <td>judo</td>\n      <td>1</td>\n    </tr>\n    <tr>\n      <th>41039</th>\n      <td>31</td>\n      <td>114.824928</td>\n      <td>ii_regionfill</td>\n      <td>walking_judo_001</td>\n      <td>55.003652</td>\n      <td>30.726888</td>\n      <td>0.963900</td>\n      <td>judo</td>\n      <td>1</td>\n    </tr>\n    <tr>\n      <th>41040</th>\n      <td>32</td>\n      <td>113.251778</td>\n      <td>ii_regionfill</td>\n      <td>walking_judo_001</td>\n      <td>99.381302</td>\n      <td>28.157757</td>\n      <td>0.961097</td>\n      <td>judo</td>\n      <td>1</td>\n    </tr>\n  </tbody>\n</table>\n<p>40797 rows × 9 columns</p>\n</div>"
     },
     "execution_count": 2,
     "metadata": {},
     "output_type": "execute_result"
    }
   ],
   "source": [
    "data_dir = '../data'\n",
    "results_dirs = get_paths('../results/image_inpainting/*')\n",
    "\n",
    "times_dfs = []\n",
    "for results_dir in results_dirs:\n",
    "    for path in get_paths(f'{results_dir}/Benchmark/*/inference_times.csv'):\n",
    "        times_df = load_dataframe(path)\n",
    "        times_df['model'] = basename(results_dir)\n",
    "        times_df['sequence_name'] = basename(dirname(path))\n",
    "        times_dfs.append(times_df)\n",
    "times_df = pd.concat(times_dfs)\n",
    "\n",
    "results_dfs = []\n",
    "for results_dir in results_dirs:\n",
    "    for path in get_paths(f'{results_dir}/Evaluation/*/results.csv'):\n",
    "        results_df = load_dataframe(path)\n",
    "        results_df['model'] = basename(results_dir)\n",
    "        sequence_name = basename(dirname(path))\n",
    "        results_df['sequence_name'] = sequence_name\n",
    "        results_df['object_sequence_name'] = sequence_name.split('_')[1]\n",
    "        results_df['object_id'] = int(sequence_name.split('_')[2])\n",
    "        results_dfs.append(results_df)\n",
    "results_df = pd.concat(results_dfs)\n",
    "\n",
    "df = pd.merge(times_df, results_df, on=['model', 'sequence_name', 'frame_id'])\n",
    "df = df[~df.isin([np.nan, np.inf, -np.inf]).any(1)]\n",
    "df"
   ]
  },
  {
   "cell_type": "code",
   "execution_count": 3,
   "metadata": {
    "pycharm": {
     "name": "#%%\n"
    }
   },
   "outputs": [
    {
     "data": {
      "text/plain": "                        mean_squared_error  peak_signal_noise_ratio  \\\nmodel                                                                 \nii_deepfillv1                   308.047086                31.525548   \nii_deepfillv1_flownet2          248.407427                36.360728   \nii_deepfillv1_pwcnet            248.049171                36.388265   \nii_deepfillv2                   286.156313                30.975536   \nii_kernelfill                   280.903865                33.261293   \nii_pconvunet                    461.925188                27.706346   \nii_regionfill                   250.708970                34.563039   \n\n                        structural_similarity  \nmodel                                          \nii_deepfillv1                        0.939509  \nii_deepfillv1_flownet2               0.957652  \nii_deepfillv1_pwcnet                 0.957853  \nii_deepfillv2                        0.940481  \nii_kernelfill                        0.948482  \nii_pconvunet                         0.928443  \nii_regionfill                        0.950062  ",
      "text/html": "<div>\n<style scoped>\n    .dataframe tbody tr th:only-of-type {\n        vertical-align: middle;\n    }\n\n    .dataframe tbody tr th {\n        vertical-align: top;\n    }\n\n    .dataframe thead th {\n        text-align: right;\n    }\n</style>\n<table border=\"1\" class=\"dataframe\">\n  <thead>\n    <tr style=\"text-align: right;\">\n      <th></th>\n      <th>mean_squared_error</th>\n      <th>peak_signal_noise_ratio</th>\n      <th>structural_similarity</th>\n    </tr>\n    <tr>\n      <th>model</th>\n      <th></th>\n      <th></th>\n      <th></th>\n    </tr>\n  </thead>\n  <tbody>\n    <tr>\n      <th>ii_deepfillv1</th>\n      <td>308.047086</td>\n      <td>31.525548</td>\n      <td>0.939509</td>\n    </tr>\n    <tr>\n      <th>ii_deepfillv1_flownet2</th>\n      <td>248.407427</td>\n      <td>36.360728</td>\n      <td>0.957652</td>\n    </tr>\n    <tr>\n      <th>ii_deepfillv1_pwcnet</th>\n      <td>248.049171</td>\n      <td>36.388265</td>\n      <td>0.957853</td>\n    </tr>\n    <tr>\n      <th>ii_deepfillv2</th>\n      <td>286.156313</td>\n      <td>30.975536</td>\n      <td>0.940481</td>\n    </tr>\n    <tr>\n      <th>ii_kernelfill</th>\n      <td>280.903865</td>\n      <td>33.261293</td>\n      <td>0.948482</td>\n    </tr>\n    <tr>\n      <th>ii_pconvunet</th>\n      <td>461.925188</td>\n      <td>27.706346</td>\n      <td>0.928443</td>\n    </tr>\n    <tr>\n      <th>ii_regionfill</th>\n      <td>250.708970</td>\n      <td>34.563039</td>\n      <td>0.950062</td>\n    </tr>\n  </tbody>\n</table>\n</div>"
     },
     "execution_count": 3,
     "metadata": {},
     "output_type": "execute_result"
    }
   ],
   "source": [
    "metrics = pd.DataFrame()\n",
    "metrics['model'] = df['model']\n",
    "metrics['sequence_name'] = df['sequence_name']\n",
    "# metrics['inference_time'] = df['inference_time']\n",
    "metrics['mean_squared_error'] = df['mean_squared_error']\n",
    "metrics['peak_signal_noise_ratio'] = df['peak_signal_noise_ratio']\n",
    "metrics['structural_similarity'] = df['structural_similarity']\n",
    "metrics.groupby('model').mean()"
   ]
  }
 ],
 "metadata": {
  "kernelspec": {
   "display_name": "Python 3",
   "language": "python",
   "name": "python3"
  },
  "language_info": {
   "codemirror_mode": {
    "name": "ipython",
    "version": 3
   },
   "file_extension": ".py",
   "mimetype": "text/x-python",
   "name": "python",
   "nbconvert_exporter": "python",
   "pygments_lexer": "ipython3",
   "version": "3.8.2"
  }
 },
 "nbformat": 4,
 "nbformat_minor": 1
}