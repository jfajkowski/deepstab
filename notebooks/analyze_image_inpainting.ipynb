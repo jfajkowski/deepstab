{
 "cells": [
  {
   "cell_type": "code",
   "execution_count": 1,
   "metadata": {
    "collapsed": true
   },
   "outputs": [],
   "source": [
    "from os.path import dirname, basename\n",
    "\n",
    "import pandas as pd\n",
    "\n",
    "from inpainting.load import load_dataframe\n",
    "from inpainting.utils import get_paths\n"
   ]
  },
  {
   "cell_type": "code",
   "execution_count": 2,
   "metadata": {
    "pycharm": {
     "name": "#%%\n"
    }
   },
   "outputs": [
    {
     "data": {
      "text/plain": "      frame_id  inference_time          model               sequence_name  \\\n0            0       62.915039  ii_deepfillv1  breakdance_paragliding_002   \n1            1       61.121952  ii_deepfillv1  breakdance_paragliding_002   \n2            2       59.795296  ii_deepfillv1  breakdance_paragliding_002   \n3            3       58.852512  ii_deepfillv1  breakdance_paragliding_002   \n4            4       55.847679  ii_deepfillv1  breakdance_paragliding_002   \n...        ...             ...            ...                         ...   \n4902        42       56.940353  ii_regionfill       tennis_soccerball_001   \n4903        43       51.636192  ii_regionfill       tennis_soccerball_001   \n4904        44       56.927937  ii_regionfill       tennis_soccerball_001   \n4905        45       53.320255  ii_regionfill       tennis_soccerball_001   \n4906        46       63.226593  ii_regionfill       tennis_soccerball_001   \n\n      mean_squared_error  peak_signal_noise_ratio  structural_similarity  \\\n0              86.109901                28.780273               0.978142   \n1              58.115443                30.487888               0.980445   \n2              48.550227                31.268891               0.981613   \n3              48.286463                31.292550               0.982666   \n4              63.719376                30.088088               0.980639   \n...                  ...                      ...                    ...   \n4902            2.252795                44.603587               0.995202   \n4903            2.061495                44.988980               0.995386   \n4904            2.263781                44.582459               0.995440   \n4905            2.233800                44.640360               0.995453   \n4906            2.007360                45.104551               0.995533   \n\n     object_sequence_name  object_id  \n0             paragliding          2  \n1             paragliding          2  \n2             paragliding          2  \n3             paragliding          2  \n4             paragliding          2  \n...                   ...        ...  \n4902           soccerball          1  \n4903           soccerball          1  \n4904           soccerball          1  \n4905           soccerball          1  \n4906           soccerball          1  \n\n[4907 rows x 9 columns]",
      "text/html": "<div>\n<style scoped>\n    .dataframe tbody tr th:only-of-type {\n        vertical-align: middle;\n    }\n\n    .dataframe tbody tr th {\n        vertical-align: top;\n    }\n\n    .dataframe thead th {\n        text-align: right;\n    }\n</style>\n<table border=\"1\" class=\"dataframe\">\n  <thead>\n    <tr style=\"text-align: right;\">\n      <th></th>\n      <th>frame_id</th>\n      <th>inference_time</th>\n      <th>model</th>\n      <th>sequence_name</th>\n      <th>mean_squared_error</th>\n      <th>peak_signal_noise_ratio</th>\n      <th>structural_similarity</th>\n      <th>object_sequence_name</th>\n      <th>object_id</th>\n    </tr>\n  </thead>\n  <tbody>\n    <tr>\n      <th>0</th>\n      <td>0</td>\n      <td>62.915039</td>\n      <td>ii_deepfillv1</td>\n      <td>breakdance_paragliding_002</td>\n      <td>86.109901</td>\n      <td>28.780273</td>\n      <td>0.978142</td>\n      <td>paragliding</td>\n      <td>2</td>\n    </tr>\n    <tr>\n      <th>1</th>\n      <td>1</td>\n      <td>61.121952</td>\n      <td>ii_deepfillv1</td>\n      <td>breakdance_paragliding_002</td>\n      <td>58.115443</td>\n      <td>30.487888</td>\n      <td>0.980445</td>\n      <td>paragliding</td>\n      <td>2</td>\n    </tr>\n    <tr>\n      <th>2</th>\n      <td>2</td>\n      <td>59.795296</td>\n      <td>ii_deepfillv1</td>\n      <td>breakdance_paragliding_002</td>\n      <td>48.550227</td>\n      <td>31.268891</td>\n      <td>0.981613</td>\n      <td>paragliding</td>\n      <td>2</td>\n    </tr>\n    <tr>\n      <th>3</th>\n      <td>3</td>\n      <td>58.852512</td>\n      <td>ii_deepfillv1</td>\n      <td>breakdance_paragliding_002</td>\n      <td>48.286463</td>\n      <td>31.292550</td>\n      <td>0.982666</td>\n      <td>paragliding</td>\n      <td>2</td>\n    </tr>\n    <tr>\n      <th>4</th>\n      <td>4</td>\n      <td>55.847679</td>\n      <td>ii_deepfillv1</td>\n      <td>breakdance_paragliding_002</td>\n      <td>63.719376</td>\n      <td>30.088088</td>\n      <td>0.980639</td>\n      <td>paragliding</td>\n      <td>2</td>\n    </tr>\n    <tr>\n      <th>...</th>\n      <td>...</td>\n      <td>...</td>\n      <td>...</td>\n      <td>...</td>\n      <td>...</td>\n      <td>...</td>\n      <td>...</td>\n      <td>...</td>\n      <td>...</td>\n    </tr>\n    <tr>\n      <th>4902</th>\n      <td>42</td>\n      <td>56.940353</td>\n      <td>ii_regionfill</td>\n      <td>tennis_soccerball_001</td>\n      <td>2.252795</td>\n      <td>44.603587</td>\n      <td>0.995202</td>\n      <td>soccerball</td>\n      <td>1</td>\n    </tr>\n    <tr>\n      <th>4903</th>\n      <td>43</td>\n      <td>51.636192</td>\n      <td>ii_regionfill</td>\n      <td>tennis_soccerball_001</td>\n      <td>2.061495</td>\n      <td>44.988980</td>\n      <td>0.995386</td>\n      <td>soccerball</td>\n      <td>1</td>\n    </tr>\n    <tr>\n      <th>4904</th>\n      <td>44</td>\n      <td>56.927937</td>\n      <td>ii_regionfill</td>\n      <td>tennis_soccerball_001</td>\n      <td>2.263781</td>\n      <td>44.582459</td>\n      <td>0.995440</td>\n      <td>soccerball</td>\n      <td>1</td>\n    </tr>\n    <tr>\n      <th>4905</th>\n      <td>45</td>\n      <td>53.320255</td>\n      <td>ii_regionfill</td>\n      <td>tennis_soccerball_001</td>\n      <td>2.233800</td>\n      <td>44.640360</td>\n      <td>0.995453</td>\n      <td>soccerball</td>\n      <td>1</td>\n    </tr>\n    <tr>\n      <th>4906</th>\n      <td>46</td>\n      <td>63.226593</td>\n      <td>ii_regionfill</td>\n      <td>tennis_soccerball_001</td>\n      <td>2.007360</td>\n      <td>45.104551</td>\n      <td>0.995533</td>\n      <td>soccerball</td>\n      <td>1</td>\n    </tr>\n  </tbody>\n</table>\n<p>4907 rows × 9 columns</p>\n</div>"
     },
     "execution_count": 2,
     "metadata": {},
     "output_type": "execute_result"
    }
   ],
   "source": [
    "dataset = 'demo'\n",
    "results_dirs = get_paths(f'../results/ii/{dataset}/*')\n",
    "\n",
    "times_dfs = []\n",
    "for results_dir in results_dirs:\n",
    "    for path in get_paths(f'{results_dir}/Benchmark/*/inference_times.csv'):\n",
    "        times_df = load_dataframe(path)\n",
    "        times_df['model'] = basename(results_dir)\n",
    "        times_df['sequence_name'] = basename(dirname(path))\n",
    "        times_dfs.append(times_df)\n",
    "times_df = pd.concat(times_dfs)\n",
    "\n",
    "results_dfs = []\n",
    "for results_dir in results_dirs:\n",
    "    for path in get_paths(f'{results_dir}/Evaluation/*/results.csv'):\n",
    "        results_df = load_dataframe(path)\n",
    "        results_df['model'] = basename(results_dir)\n",
    "        sequence_name = basename(dirname(path))\n",
    "        results_df['sequence_name'] = sequence_name\n",
    "        results_df['object_sequence_name'] = sequence_name.split('_')[1]\n",
    "        results_df['object_id'] = int(sequence_name.split('_')[2])\n",
    "        results_dfs.append(results_df)\n",
    "results_df = pd.concat(results_dfs)\n",
    "\n",
    "df = pd.merge(times_df, results_df, on=['model', 'sequence_name', 'frame_id'])\n",
    "df"
   ]
  },
  {
   "cell_type": "code",
   "execution_count": 3,
   "metadata": {
    "pycharm": {
     "name": "#%%\n"
    }
   },
   "outputs": [
    {
     "data": {
      "text/plain": "                        inference_time  mean_squared_error  \\\nmodel                                                        \nii_deepfillv1                50.953780           72.384135   \nii_deepfillv1_flownet2      332.814639           36.206546   \nii_deepfillv1_pwcnet        265.981093           37.352511   \nii_deepfillv2                30.193220           57.447578   \nii_kernelfill               237.754556           44.727686   \nii_pconvunet                 22.788819          179.694561   \nii_regionfill                94.253227           40.960994   \n\n                        peak_signal_noise_ratio  structural_similarity  \nmodel                                                                   \nii_deepfillv1                         32.050414               0.966203  \nii_deepfillv1_flownet2                37.708112               0.983929  \nii_deepfillv1_pwcnet                  37.493410               0.984077  \nii_deepfillv2                         32.169737               0.967450  \nii_kernelfill                         34.166850               0.972217  \nii_pconvunet                          27.049354               0.955417  \nii_regionfill                         34.484699               0.972674  ",
      "text/html": "<div>\n<style scoped>\n    .dataframe tbody tr th:only-of-type {\n        vertical-align: middle;\n    }\n\n    .dataframe tbody tr th {\n        vertical-align: top;\n    }\n\n    .dataframe thead th {\n        text-align: right;\n    }\n</style>\n<table border=\"1\" class=\"dataframe\">\n  <thead>\n    <tr style=\"text-align: right;\">\n      <th></th>\n      <th>inference_time</th>\n      <th>mean_squared_error</th>\n      <th>peak_signal_noise_ratio</th>\n      <th>structural_similarity</th>\n    </tr>\n    <tr>\n      <th>model</th>\n      <th></th>\n      <th></th>\n      <th></th>\n      <th></th>\n    </tr>\n  </thead>\n  <tbody>\n    <tr>\n      <th>ii_deepfillv1</th>\n      <td>50.953780</td>\n      <td>72.384135</td>\n      <td>32.050414</td>\n      <td>0.966203</td>\n    </tr>\n    <tr>\n      <th>ii_deepfillv1_flownet2</th>\n      <td>332.814639</td>\n      <td>36.206546</td>\n      <td>37.708112</td>\n      <td>0.983929</td>\n    </tr>\n    <tr>\n      <th>ii_deepfillv1_pwcnet</th>\n      <td>265.981093</td>\n      <td>37.352511</td>\n      <td>37.493410</td>\n      <td>0.984077</td>\n    </tr>\n    <tr>\n      <th>ii_deepfillv2</th>\n      <td>30.193220</td>\n      <td>57.447578</td>\n      <td>32.169737</td>\n      <td>0.967450</td>\n    </tr>\n    <tr>\n      <th>ii_kernelfill</th>\n      <td>237.754556</td>\n      <td>44.727686</td>\n      <td>34.166850</td>\n      <td>0.972217</td>\n    </tr>\n    <tr>\n      <th>ii_pconvunet</th>\n      <td>22.788819</td>\n      <td>179.694561</td>\n      <td>27.049354</td>\n      <td>0.955417</td>\n    </tr>\n    <tr>\n      <th>ii_regionfill</th>\n      <td>94.253227</td>\n      <td>40.960994</td>\n      <td>34.484699</td>\n      <td>0.972674</td>\n    </tr>\n  </tbody>\n</table>\n</div>"
     },
     "execution_count": 3,
     "metadata": {},
     "output_type": "execute_result"
    }
   ],
   "source": [
    "metrics = pd.DataFrame()\n",
    "metrics['model'] = df['model']\n",
    "metrics['sequence_name'] = df['sequence_name']\n",
    "metrics['inference_time'] = df['inference_time']\n",
    "metrics['mean_squared_error'] = df['mean_squared_error']\n",
    "metrics['peak_signal_noise_ratio'] = df['peak_signal_noise_ratio']\n",
    "metrics['structural_similarity'] = df['structural_similarity']\n",
    "metrics.groupby('model').mean()"
   ]
  }
 ],
 "metadata": {
  "kernelspec": {
   "display_name": "Python 3",
   "language": "python",
   "name": "python3"
  },
  "language_info": {
   "codemirror_mode": {
    "name": "ipython",
    "version": 3
   },
   "file_extension": ".py",
   "mimetype": "text/x-python",
   "name": "python",
   "nbconvert_exporter": "python",
   "pygments_lexer": "ipython3",
   "version": "3.8.2"
  }
 },
 "nbformat": 4,
 "nbformat_minor": 1
}