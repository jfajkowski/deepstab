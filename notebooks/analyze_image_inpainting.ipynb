{
 "cells": [
  {
   "cell_type": "code",
   "execution_count": 1,
   "metadata": {
    "collapsed": true
   },
   "outputs": [],
   "source": [
    "from os.path import dirname, basename\n",
    "\n",
    "import pandas as pd\n",
    "import numpy as np\n",
    "\n",
    "from inpainting.load import load_dataframe\n",
    "from inpainting.utils import get_paths\n"
   ]
  },
  {
   "cell_type": "code",
   "execution_count": 2,
   "metadata": {
    "pycharm": {
     "name": "#%%\n"
    }
   },
   "outputs": [
    {
     "data": {
      "text/plain": "       frame_id  inference_time          model       sequence_name  \\\n0             0       61.243298  ii_deepfillv1       bear_pigs_001   \n1             1       61.146751  ii_deepfillv1       bear_pigs_001   \n2             2       55.534912  ii_deepfillv1       bear_pigs_001   \n3             3       38.402176  ii_deepfillv1       bear_pigs_001   \n4             4       39.394978  ii_deepfillv1       bear_pigs_001   \n...         ...             ...            ...                 ...   \n41260        44      635.715515  ii_regionfill  walking_rallye_001   \n41261        45      755.281921  ii_regionfill  walking_rallye_001   \n41262        46      600.637878  ii_regionfill  walking_rallye_001   \n41263        47      566.722717  ii_regionfill  walking_rallye_001   \n41264        48      506.929138  ii_regionfill  walking_rallye_001   \n\n       mean_squared_error  peak_signal_noise_ratio  structural_similarity  \\\n0               46.725176                31.435294               0.968047   \n1              104.029925                27.959221               0.963378   \n2               80.026365                29.098473               0.962111   \n3              138.224665                26.724948               0.958946   \n4              157.089327                26.169337               0.962557   \n...                   ...                      ...                    ...   \n41260          584.342010                20.464133               0.793267   \n41261          782.216220                19.197535               0.760024   \n41262          676.047956                19.831029               0.793386   \n41263          675.415990                19.835090               0.816619   \n41264          946.486847                18.369658               0.845566   \n\n      object_sequence_name  object_id  \n0                     pigs          1  \n1                     pigs          1  \n2                     pigs          1  \n3                     pigs          1  \n4                     pigs          1  \n...                    ...        ...  \n41260               rallye          1  \n41261               rallye          1  \n41262               rallye          1  \n41263               rallye          1  \n41264               rallye          1  \n\n[41135 rows x 9 columns]",
      "text/html": "<div>\n<style scoped>\n    .dataframe tbody tr th:only-of-type {\n        vertical-align: middle;\n    }\n\n    .dataframe tbody tr th {\n        vertical-align: top;\n    }\n\n    .dataframe thead th {\n        text-align: right;\n    }\n</style>\n<table border=\"1\" class=\"dataframe\">\n  <thead>\n    <tr style=\"text-align: right;\">\n      <th></th>\n      <th>frame_id</th>\n      <th>inference_time</th>\n      <th>model</th>\n      <th>sequence_name</th>\n      <th>mean_squared_error</th>\n      <th>peak_signal_noise_ratio</th>\n      <th>structural_similarity</th>\n      <th>object_sequence_name</th>\n      <th>object_id</th>\n    </tr>\n  </thead>\n  <tbody>\n    <tr>\n      <th>0</th>\n      <td>0</td>\n      <td>61.243298</td>\n      <td>ii_deepfillv1</td>\n      <td>bear_pigs_001</td>\n      <td>46.725176</td>\n      <td>31.435294</td>\n      <td>0.968047</td>\n      <td>pigs</td>\n      <td>1</td>\n    </tr>\n    <tr>\n      <th>1</th>\n      <td>1</td>\n      <td>61.146751</td>\n      <td>ii_deepfillv1</td>\n      <td>bear_pigs_001</td>\n      <td>104.029925</td>\n      <td>27.959221</td>\n      <td>0.963378</td>\n      <td>pigs</td>\n      <td>1</td>\n    </tr>\n    <tr>\n      <th>2</th>\n      <td>2</td>\n      <td>55.534912</td>\n      <td>ii_deepfillv1</td>\n      <td>bear_pigs_001</td>\n      <td>80.026365</td>\n      <td>29.098473</td>\n      <td>0.962111</td>\n      <td>pigs</td>\n      <td>1</td>\n    </tr>\n    <tr>\n      <th>3</th>\n      <td>3</td>\n      <td>38.402176</td>\n      <td>ii_deepfillv1</td>\n      <td>bear_pigs_001</td>\n      <td>138.224665</td>\n      <td>26.724948</td>\n      <td>0.958946</td>\n      <td>pigs</td>\n      <td>1</td>\n    </tr>\n    <tr>\n      <th>4</th>\n      <td>4</td>\n      <td>39.394978</td>\n      <td>ii_deepfillv1</td>\n      <td>bear_pigs_001</td>\n      <td>157.089327</td>\n      <td>26.169337</td>\n      <td>0.962557</td>\n      <td>pigs</td>\n      <td>1</td>\n    </tr>\n    <tr>\n      <th>...</th>\n      <td>...</td>\n      <td>...</td>\n      <td>...</td>\n      <td>...</td>\n      <td>...</td>\n      <td>...</td>\n      <td>...</td>\n      <td>...</td>\n      <td>...</td>\n    </tr>\n    <tr>\n      <th>41260</th>\n      <td>44</td>\n      <td>635.715515</td>\n      <td>ii_regionfill</td>\n      <td>walking_rallye_001</td>\n      <td>584.342010</td>\n      <td>20.464133</td>\n      <td>0.793267</td>\n      <td>rallye</td>\n      <td>1</td>\n    </tr>\n    <tr>\n      <th>41261</th>\n      <td>45</td>\n      <td>755.281921</td>\n      <td>ii_regionfill</td>\n      <td>walking_rallye_001</td>\n      <td>782.216220</td>\n      <td>19.197535</td>\n      <td>0.760024</td>\n      <td>rallye</td>\n      <td>1</td>\n    </tr>\n    <tr>\n      <th>41262</th>\n      <td>46</td>\n      <td>600.637878</td>\n      <td>ii_regionfill</td>\n      <td>walking_rallye_001</td>\n      <td>676.047956</td>\n      <td>19.831029</td>\n      <td>0.793386</td>\n      <td>rallye</td>\n      <td>1</td>\n    </tr>\n    <tr>\n      <th>41263</th>\n      <td>47</td>\n      <td>566.722717</td>\n      <td>ii_regionfill</td>\n      <td>walking_rallye_001</td>\n      <td>675.415990</td>\n      <td>19.835090</td>\n      <td>0.816619</td>\n      <td>rallye</td>\n      <td>1</td>\n    </tr>\n    <tr>\n      <th>41264</th>\n      <td>48</td>\n      <td>506.929138</td>\n      <td>ii_regionfill</td>\n      <td>walking_rallye_001</td>\n      <td>946.486847</td>\n      <td>18.369658</td>\n      <td>0.845566</td>\n      <td>rallye</td>\n      <td>1</td>\n    </tr>\n  </tbody>\n</table>\n<p>41135 rows × 9 columns</p>\n</div>"
     },
     "execution_count": 2,
     "metadata": {},
     "output_type": "execute_result"
    }
   ],
   "source": [
    "dataset = 'DAVIS'\n",
    "results_dirs = get_paths(f'../results/ii/{dataset}/*')\n",
    "\n",
    "times_dfs = []\n",
    "for results_dir in results_dirs:\n",
    "    for path in get_paths(f'{results_dir}/Benchmark/*/inference_times.csv'):\n",
    "        times_df = load_dataframe(path)\n",
    "        times_df['model'] = basename(results_dir)\n",
    "        times_df['sequence_name'] = basename(dirname(path))\n",
    "        times_dfs.append(times_df)\n",
    "times_df = pd.concat(times_dfs)\n",
    "\n",
    "results_dfs = []\n",
    "for results_dir in results_dirs:\n",
    "    for path in get_paths(f'{results_dir}/Evaluation/*/results.csv'):\n",
    "        results_df = load_dataframe(path)\n",
    "        results_df['model'] = basename(results_dir)\n",
    "        sequence_name = basename(dirname(path))\n",
    "        results_df['sequence_name'] = sequence_name\n",
    "        results_df['object_sequence_name'] = sequence_name.split('_')[1]\n",
    "        results_df['object_id'] = int(sequence_name.split('_')[2])\n",
    "        results_dfs.append(results_df)\n",
    "results_df = pd.concat(results_dfs)\n",
    "\n",
    "df = pd.merge(times_df, results_df, on=['model', 'sequence_name', 'frame_id'])\n",
    "df = df[~df.isin([np.nan, np.inf, -np.inf]).any(1)]\n",
    "df"
   ]
  },
  {
   "cell_type": "code",
   "execution_count": 3,
   "metadata": {
    "pycharm": {
     "name": "#%%\n"
    }
   },
   "outputs": [
    {
     "data": {
      "text/plain": "                        inference_time  mean_squared_error  \\\nmodel                                                        \nii_deepfillv1                52.876028          137.478713   \nii_deepfillv1_flownet2      349.900539           83.569036   \nii_deepfillv1_pwcnet        278.251775           82.882268   \nii_deepfillv2                32.362494          117.310768   \nii_kernelfill               277.737633          111.953052   \nii_pconvunet                 24.212770          291.961397   \nii_regionfill               111.282765           78.546540   \n\n                        peak_signal_noise_ratio  structural_similarity  \nmodel                                                                   \nii_deepfillv1                         30.995413               0.957047  \nii_deepfillv1_flownet2                35.059311               0.972399  \nii_deepfillv1_pwcnet                  35.034977               0.972563  \nii_deepfillv2                         30.871036               0.957857  \nii_kernelfill                         32.777999               0.965099  \nii_pconvunet                          27.448398               0.947243  \nii_regionfill                         33.829873               0.966292  ",
      "text/html": "<div>\n<style scoped>\n    .dataframe tbody tr th:only-of-type {\n        vertical-align: middle;\n    }\n\n    .dataframe tbody tr th {\n        vertical-align: top;\n    }\n\n    .dataframe thead th {\n        text-align: right;\n    }\n</style>\n<table border=\"1\" class=\"dataframe\">\n  <thead>\n    <tr style=\"text-align: right;\">\n      <th></th>\n      <th>inference_time</th>\n      <th>mean_squared_error</th>\n      <th>peak_signal_noise_ratio</th>\n      <th>structural_similarity</th>\n    </tr>\n    <tr>\n      <th>model</th>\n      <th></th>\n      <th></th>\n      <th></th>\n      <th></th>\n    </tr>\n  </thead>\n  <tbody>\n    <tr>\n      <th>ii_deepfillv1</th>\n      <td>52.876028</td>\n      <td>137.478713</td>\n      <td>30.995413</td>\n      <td>0.957047</td>\n    </tr>\n    <tr>\n      <th>ii_deepfillv1_flownet2</th>\n      <td>349.900539</td>\n      <td>83.569036</td>\n      <td>35.059311</td>\n      <td>0.972399</td>\n    </tr>\n    <tr>\n      <th>ii_deepfillv1_pwcnet</th>\n      <td>278.251775</td>\n      <td>82.882268</td>\n      <td>35.034977</td>\n      <td>0.972563</td>\n    </tr>\n    <tr>\n      <th>ii_deepfillv2</th>\n      <td>32.362494</td>\n      <td>117.310768</td>\n      <td>30.871036</td>\n      <td>0.957857</td>\n    </tr>\n    <tr>\n      <th>ii_kernelfill</th>\n      <td>277.737633</td>\n      <td>111.953052</td>\n      <td>32.777999</td>\n      <td>0.965099</td>\n    </tr>\n    <tr>\n      <th>ii_pconvunet</th>\n      <td>24.212770</td>\n      <td>291.961397</td>\n      <td>27.448398</td>\n      <td>0.947243</td>\n    </tr>\n    <tr>\n      <th>ii_regionfill</th>\n      <td>111.282765</td>\n      <td>78.546540</td>\n      <td>33.829873</td>\n      <td>0.966292</td>\n    </tr>\n  </tbody>\n</table>\n</div>"
     },
     "execution_count": 3,
     "metadata": {},
     "output_type": "execute_result"
    }
   ],
   "source": [
    "metrics = pd.DataFrame()\n",
    "metrics['model'] = df['model']\n",
    "metrics['sequence_name'] = df['sequence_name']\n",
    "metrics['inference_time'] = df['inference_time']\n",
    "metrics['mean_squared_error'] = df['mean_squared_error']\n",
    "metrics['peak_signal_noise_ratio'] = df['peak_signal_noise_ratio']\n",
    "metrics['structural_similarity'] = df['structural_similarity']\n",
    "metrics.groupby('model').mean()"
   ]
  }
 ],
 "metadata": {
  "kernelspec": {
   "display_name": "Python 3",
   "language": "python",
   "name": "python3"
  },
  "language_info": {
   "codemirror_mode": {
    "name": "ipython",
    "version": 3
   },
   "file_extension": ".py",
   "mimetype": "text/x-python",
   "name": "python",
   "nbconvert_exporter": "python",
   "pygments_lexer": "ipython3",
   "version": "3.8.2"
  }
 },
 "nbformat": 4,
 "nbformat_minor": 1
}