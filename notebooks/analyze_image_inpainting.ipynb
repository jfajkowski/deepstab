{
 "cells": [
  {
   "cell_type": "code",
   "execution_count": 5,
   "metadata": {
    "collapsed": true
   },
   "outputs": [],
   "source": [
    "import glob\n",
    "from os.path import dirname, basename\n",
    "import pandas as pd\n",
    "from inpainting.load import load_dataframe\n"
   ]
  },
  {
   "cell_type": "code",
   "execution_count": 6,
   "metadata": {
    "pycharm": {
     "name": "#%%\n"
    }
   },
   "outputs": [
    {
     "data": {
      "text/plain": "       frame_id  object_id  object_to_screen_ratio object_sequence_name  \\\n0             0          1                0.077911         bike-packing   \n1             0          1                0.077911         bike-packing   \n2             0          1                0.077911         bike-packing   \n3             0          1                0.077911         bike-packing   \n4             0          1                0.077911         bike-packing   \n...         ...        ...                     ...                  ...   \n28700        51          3                0.021820              walking   \n28701        51          3                0.021820              walking   \n28702        51          3                0.021820              walking   \n28703        51          3                0.021820              walking   \n28704        51          3                0.021820              walking   \n\n       mean_squared_error  peak_signal_noise_ratio  structural_similarity  \\\n0              125.198766                27.154803               0.949514   \n1               67.449176                29.841037               0.952569   \n2              113.169161                27.593523               0.942752   \n3               40.873141                32.016423               0.959284   \n4              124.304563                27.185933               0.951844   \n...                   ...                      ...                    ...   \n28700            5.373411                40.828303               0.992048   \n28701            7.779963                39.221028               0.991796   \n28702           41.313344                31.969900               0.988283   \n28703           67.133268                29.861426               0.982328   \n28704            4.239217                41.857947               0.992013   \n\n               model                 sequence_name  inference_time  \n0      ii_deepfillv1  dog-agility_bike-packing_001       37.804382  \n1      ii_deepfillv1      soapbox_bike-packing_001       39.715874  \n2      ii_deepfillv2  dog-agility_bike-packing_001       27.801727  \n3      ii_deepfillv2      soapbox_bike-packing_001       27.605888  \n4      ii_kernelfill  dog-agility_bike-packing_001      200.926407  \n...              ...                           ...             ...  \n28700  ii_deepfillv1     drift-chicane_walking_003       45.212608  \n28701  ii_deepfillv2     drift-chicane_walking_003       33.836929  \n28702  ii_kernelfill     drift-chicane_walking_003      118.990845  \n28703   ii_pconvunet     drift-chicane_walking_003       25.467968  \n28704  ii_regionfill     drift-chicane_walking_003       52.351456  \n\n[28705 rows x 10 columns]",
      "text/html": "<div>\n<style scoped>\n    .dataframe tbody tr th:only-of-type {\n        vertical-align: middle;\n    }\n\n    .dataframe tbody tr th {\n        vertical-align: top;\n    }\n\n    .dataframe thead th {\n        text-align: right;\n    }\n</style>\n<table border=\"1\" class=\"dataframe\">\n  <thead>\n    <tr style=\"text-align: right;\">\n      <th></th>\n      <th>frame_id</th>\n      <th>object_id</th>\n      <th>object_to_screen_ratio</th>\n      <th>object_sequence_name</th>\n      <th>mean_squared_error</th>\n      <th>peak_signal_noise_ratio</th>\n      <th>structural_similarity</th>\n      <th>model</th>\n      <th>sequence_name</th>\n      <th>inference_time</th>\n    </tr>\n  </thead>\n  <tbody>\n    <tr>\n      <th>0</th>\n      <td>0</td>\n      <td>1</td>\n      <td>0.077911</td>\n      <td>bike-packing</td>\n      <td>125.198766</td>\n      <td>27.154803</td>\n      <td>0.949514</td>\n      <td>ii_deepfillv1</td>\n      <td>dog-agility_bike-packing_001</td>\n      <td>37.804382</td>\n    </tr>\n    <tr>\n      <th>1</th>\n      <td>0</td>\n      <td>1</td>\n      <td>0.077911</td>\n      <td>bike-packing</td>\n      <td>67.449176</td>\n      <td>29.841037</td>\n      <td>0.952569</td>\n      <td>ii_deepfillv1</td>\n      <td>soapbox_bike-packing_001</td>\n      <td>39.715874</td>\n    </tr>\n    <tr>\n      <th>2</th>\n      <td>0</td>\n      <td>1</td>\n      <td>0.077911</td>\n      <td>bike-packing</td>\n      <td>113.169161</td>\n      <td>27.593523</td>\n      <td>0.942752</td>\n      <td>ii_deepfillv2</td>\n      <td>dog-agility_bike-packing_001</td>\n      <td>27.801727</td>\n    </tr>\n    <tr>\n      <th>3</th>\n      <td>0</td>\n      <td>1</td>\n      <td>0.077911</td>\n      <td>bike-packing</td>\n      <td>40.873141</td>\n      <td>32.016423</td>\n      <td>0.959284</td>\n      <td>ii_deepfillv2</td>\n      <td>soapbox_bike-packing_001</td>\n      <td>27.605888</td>\n    </tr>\n    <tr>\n      <th>4</th>\n      <td>0</td>\n      <td>1</td>\n      <td>0.077911</td>\n      <td>bike-packing</td>\n      <td>124.304563</td>\n      <td>27.185933</td>\n      <td>0.951844</td>\n      <td>ii_kernelfill</td>\n      <td>dog-agility_bike-packing_001</td>\n      <td>200.926407</td>\n    </tr>\n    <tr>\n      <th>...</th>\n      <td>...</td>\n      <td>...</td>\n      <td>...</td>\n      <td>...</td>\n      <td>...</td>\n      <td>...</td>\n      <td>...</td>\n      <td>...</td>\n      <td>...</td>\n      <td>...</td>\n    </tr>\n    <tr>\n      <th>28700</th>\n      <td>51</td>\n      <td>3</td>\n      <td>0.021820</td>\n      <td>walking</td>\n      <td>5.373411</td>\n      <td>40.828303</td>\n      <td>0.992048</td>\n      <td>ii_deepfillv1</td>\n      <td>drift-chicane_walking_003</td>\n      <td>45.212608</td>\n    </tr>\n    <tr>\n      <th>28701</th>\n      <td>51</td>\n      <td>3</td>\n      <td>0.021820</td>\n      <td>walking</td>\n      <td>7.779963</td>\n      <td>39.221028</td>\n      <td>0.991796</td>\n      <td>ii_deepfillv2</td>\n      <td>drift-chicane_walking_003</td>\n      <td>33.836929</td>\n    </tr>\n    <tr>\n      <th>28702</th>\n      <td>51</td>\n      <td>3</td>\n      <td>0.021820</td>\n      <td>walking</td>\n      <td>41.313344</td>\n      <td>31.969900</td>\n      <td>0.988283</td>\n      <td>ii_kernelfill</td>\n      <td>drift-chicane_walking_003</td>\n      <td>118.990845</td>\n    </tr>\n    <tr>\n      <th>28703</th>\n      <td>51</td>\n      <td>3</td>\n      <td>0.021820</td>\n      <td>walking</td>\n      <td>67.133268</td>\n      <td>29.861426</td>\n      <td>0.982328</td>\n      <td>ii_pconvunet</td>\n      <td>drift-chicane_walking_003</td>\n      <td>25.467968</td>\n    </tr>\n    <tr>\n      <th>28704</th>\n      <td>51</td>\n      <td>3</td>\n      <td>0.021820</td>\n      <td>walking</td>\n      <td>4.239217</td>\n      <td>41.857947</td>\n      <td>0.992013</td>\n      <td>ii_regionfill</td>\n      <td>drift-chicane_walking_003</td>\n      <td>52.351456</td>\n    </tr>\n  </tbody>\n</table>\n<p>28705 rows × 10 columns</p>\n</div>"
     },
     "execution_count": 6,
     "metadata": {},
     "output_type": "execute_result"
    }
   ],
   "source": [
    "data_dir = '../data'\n",
    "results_dirs = glob.glob('../results/image_inpainting/*')\n",
    "\n",
    "\n",
    "object_stats_dfs = []\n",
    "for path in glob.glob(f'{data_dir}/interim/DAVIS/ObjectStats/*/raw_object_stats.csv'):\n",
    "    object_stats_df = load_dataframe(path)\n",
    "    object_stats_df['object_sequence_name'] = basename(dirname(path))\n",
    "    object_stats_dfs.append(object_stats_df)\n",
    "object_stats_df = pd.concat(object_stats_dfs)\n",
    "\n",
    "times_dfs = []\n",
    "for results_dir in results_dirs:\n",
    "    for path in glob.glob(f'{results_dir}/Benchmark/*/inference_times.csv'):\n",
    "        times_df = load_dataframe(path)\n",
    "        times_df['model'] = basename(results_dir)\n",
    "        times_df['sequence_name'] = basename(dirname(path))\n",
    "        times_dfs.append(times_df)\n",
    "times_dfs = pd.concat(times_dfs)\n",
    "\n",
    "results_dfs = []\n",
    "for results_dir in results_dirs:\n",
    "    for path in glob.glob(f'{results_dir}/Evaluation/*/results.csv'):\n",
    "        results_df = load_dataframe(path)\n",
    "        results_df['model'] = basename(results_dir)\n",
    "        sequence_name = basename(dirname(path))\n",
    "        results_df['sequence_name'] = sequence_name\n",
    "        results_df['object_sequence_name'] = sequence_name.split('_')[1]\n",
    "        results_df['object_id'] = int(sequence_name.split('_')[2])\n",
    "        results_dfs.append(results_df)\n",
    "results_df = pd.concat(results_dfs)\n",
    "\n",
    "df = pd.merge(object_stats_df, results_df, on=['object_sequence_name', 'object_id', 'frame_id'])\n",
    "df = pd.merge(df, times_dfs, on=['model', 'sequence_name', 'frame_id'])\n",
    "df"
   ]
  },
  {
   "cell_type": "code",
   "execution_count": 7,
   "metadata": {
    "pycharm": {
     "name": "#%%\n"
    }
   },
   "outputs": [
    {
     "data": {
      "text/plain": "               inference_time  mean_squared_error  peak_signal_noise_ratio  \\\nmodel                                                                        \nii_deepfillv1       47.169212          314.586824                31.048661   \nii_deepfillv2       32.516945          292.230858                30.486961   \nii_kernelfill      268.042337          280.903865                33.261293   \nii_pconvunet        25.007221          471.737222                27.110769   \nii_regionfill      122.415958          250.708970                34.563039   \n\n               structural_similarity  \nmodel                                 \nii_deepfillv1               0.938230  \nii_deepfillv2               0.939222  \nii_kernelfill               0.948482  \nii_pconvunet                0.926932  \nii_regionfill               0.950062  ",
      "text/html": "<div>\n<style scoped>\n    .dataframe tbody tr th:only-of-type {\n        vertical-align: middle;\n    }\n\n    .dataframe tbody tr th {\n        vertical-align: top;\n    }\n\n    .dataframe thead th {\n        text-align: right;\n    }\n</style>\n<table border=\"1\" class=\"dataframe\">\n  <thead>\n    <tr style=\"text-align: right;\">\n      <th></th>\n      <th>inference_time</th>\n      <th>mean_squared_error</th>\n      <th>peak_signal_noise_ratio</th>\n      <th>structural_similarity</th>\n    </tr>\n    <tr>\n      <th>model</th>\n      <th></th>\n      <th></th>\n      <th></th>\n      <th></th>\n    </tr>\n  </thead>\n  <tbody>\n    <tr>\n      <th>ii_deepfillv1</th>\n      <td>47.169212</td>\n      <td>314.586824</td>\n      <td>31.048661</td>\n      <td>0.938230</td>\n    </tr>\n    <tr>\n      <th>ii_deepfillv2</th>\n      <td>32.516945</td>\n      <td>292.230858</td>\n      <td>30.486961</td>\n      <td>0.939222</td>\n    </tr>\n    <tr>\n      <th>ii_kernelfill</th>\n      <td>268.042337</td>\n      <td>280.903865</td>\n      <td>33.261293</td>\n      <td>0.948482</td>\n    </tr>\n    <tr>\n      <th>ii_pconvunet</th>\n      <td>25.007221</td>\n      <td>471.737222</td>\n      <td>27.110769</td>\n      <td>0.926932</td>\n    </tr>\n    <tr>\n      <th>ii_regionfill</th>\n      <td>122.415958</td>\n      <td>250.708970</td>\n      <td>34.563039</td>\n      <td>0.950062</td>\n    </tr>\n  </tbody>\n</table>\n</div>"
     },
     "execution_count": 7,
     "metadata": {},
     "output_type": "execute_result"
    }
   ],
   "source": [
    "metrics = pd.DataFrame()\n",
    "metrics['model'] = df['model']\n",
    "metrics['sequence_name'] = df['sequence_name']\n",
    "metrics['inference_time'] = df['inference_time']\n",
    "metrics['mean_squared_error'] = df['mean_squared_error']\n",
    "metrics['peak_signal_noise_ratio'] = df['peak_signal_noise_ratio']\n",
    "metrics['structural_similarity'] = df['structural_similarity']\n",
    "metrics.groupby('model').mean()"
   ]
  },
  {
   "cell_type": "code",
   "execution_count": 8,
   "metadata": {
    "pycharm": {
     "name": "#%%\n"
    }
   },
   "outputs": [
    {
     "data": {
      "text/plain": "               inference_time  mean_squared_error  peak_signal_noise_ratio  \\\nmodel                                                                        \nii_deepfillv1       47.169212           22.200860                 1.592903   \nii_deepfillv2       32.516945           18.005398                 1.632262   \nii_kernelfill      268.042337           18.620494                 1.701030   \nii_pconvunet        25.007221           44.615440                 1.367868   \nii_regionfill      122.415958           14.108430                 1.796830   \n\n               structural_similarity  \nmodel                                 \nii_deepfillv1               0.055602  \nii_deepfillv2               0.056027  \nii_kernelfill               0.056698  \nii_pconvunet                0.054479  \nii_regionfill               0.056896  ",
      "text/html": "<div>\n<style scoped>\n    .dataframe tbody tr th:only-of-type {\n        vertical-align: middle;\n    }\n\n    .dataframe tbody tr th {\n        vertical-align: top;\n    }\n\n    .dataframe thead th {\n        text-align: right;\n    }\n</style>\n<table border=\"1\" class=\"dataframe\">\n  <thead>\n    <tr style=\"text-align: right;\">\n      <th></th>\n      <th>inference_time</th>\n      <th>mean_squared_error</th>\n      <th>peak_signal_noise_ratio</th>\n      <th>structural_similarity</th>\n    </tr>\n    <tr>\n      <th>model</th>\n      <th></th>\n      <th></th>\n      <th></th>\n      <th></th>\n    </tr>\n  </thead>\n  <tbody>\n    <tr>\n      <th>ii_deepfillv1</th>\n      <td>47.169212</td>\n      <td>22.200860</td>\n      <td>1.592903</td>\n      <td>0.055602</td>\n    </tr>\n    <tr>\n      <th>ii_deepfillv2</th>\n      <td>32.516945</td>\n      <td>18.005398</td>\n      <td>1.632262</td>\n      <td>0.056027</td>\n    </tr>\n    <tr>\n      <th>ii_kernelfill</th>\n      <td>268.042337</td>\n      <td>18.620494</td>\n      <td>1.701030</td>\n      <td>0.056698</td>\n    </tr>\n    <tr>\n      <th>ii_pconvunet</th>\n      <td>25.007221</td>\n      <td>44.615440</td>\n      <td>1.367868</td>\n      <td>0.054479</td>\n    </tr>\n    <tr>\n      <th>ii_regionfill</th>\n      <td>122.415958</td>\n      <td>14.108430</td>\n      <td>1.796830</td>\n      <td>0.056896</td>\n    </tr>\n  </tbody>\n</table>\n</div>"
     },
     "execution_count": 8,
     "metadata": {},
     "output_type": "execute_result"
    }
   ],
   "source": [
    "metrics = pd.DataFrame()\n",
    "metrics['model'] = df['model']\n",
    "metrics['sequence_name'] = df['sequence_name']\n",
    "metrics['inference_time'] = df['inference_time']\n",
    "metrics['mean_squared_error'] = df['mean_squared_error'] * df['object_to_screen_ratio']\n",
    "metrics['peak_signal_noise_ratio'] = df['peak_signal_noise_ratio'] * df['object_to_screen_ratio']\n",
    "metrics['structural_similarity'] = df['structural_similarity'] * df['object_to_screen_ratio']\n",
    "metrics.groupby('model').mean()\n"
   ]
  }
 ],
 "metadata": {
  "kernelspec": {
   "display_name": "Python 3",
   "language": "python",
   "name": "python3"
  },
  "language_info": {
   "codemirror_mode": {
    "name": "ipython",
    "version": 3
   },
   "file_extension": ".py",
   "mimetype": "text/x-python",
   "name": "python",
   "nbconvert_exporter": "python",
   "pygments_lexer": "ipython3",
   "version": "3.8.2"
  }
 },
 "nbformat": 4,
 "nbformat_minor": 1
}