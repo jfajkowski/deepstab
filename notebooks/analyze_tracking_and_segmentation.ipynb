{
 "cells": [
  {
   "cell_type": "code",
   "execution_count": 1,
   "metadata": {
    "collapsed": true
   },
   "outputs": [],
   "source": [
    "from os.path import dirname, basename\n",
    "\n",
    "import pandas as pd\n",
    "\n",
    "from inpainting.load import load_dataframe\n",
    "from inpainting.utils import get_paths"
   ]
  },
  {
   "cell_type": "code",
   "execution_count": 2,
   "metadata": {
    "pycharm": {
     "name": "#%%\n"
    }
   },
   "outputs": [
    {
     "data": {
      "text/plain": "       frame_id  inference_time            model  \\\n0             0       25.491392  ts_dilation_3_3   \n1             1       28.357183  ts_dilation_3_3   \n2             2       26.060255  ts_dilation_3_3   \n3             3       27.517120  ts_dilation_3_3   \n4             4       26.227327  ts_dilation_3_3   \n...         ...             ...              ...   \n34430        66       26.165056   ts_no_dilation   \n34431        67       26.874687   ts_no_dilation   \n34432        68       24.073088   ts_no_dilation   \n34433        69       24.360384   ts_no_dilation   \n34434        70       26.694559   ts_no_dilation   \n\n                       sequence_name  object_coverage  background_coverage  \\\n0      bike-packing_bike-packing_001         0.971456             0.936966   \n1      bike-packing_bike-packing_001         0.967389             0.939151   \n2      bike-packing_bike-packing_001         0.970926             0.936416   \n3      bike-packing_bike-packing_001         0.970808             0.936302   \n4      bike-packing_bike-packing_001         0.990520             0.928603   \n...                              ...              ...                  ...   \n34430            walking_walking_003         0.236302             0.944671   \n34431            walking_walking_003         0.241014             0.937395   \n34432            walking_walking_003         0.237284             0.933758   \n34433            walking_walking_003         0.259947             0.919245   \n34434            walking_walking_003         0.373653             0.896117   \n\n      object_sequence_name  object_id  \n0             bike-packing          1  \n1             bike-packing          1  \n2             bike-packing          1  \n3             bike-packing          1  \n4             bike-packing          1  \n...                    ...        ...  \n34430              walking          3  \n34431              walking          3  \n34432              walking          3  \n34433              walking          3  \n34434              walking          3  \n\n[34435 rows x 8 columns]",
      "text/html": "<div>\n<style scoped>\n    .dataframe tbody tr th:only-of-type {\n        vertical-align: middle;\n    }\n\n    .dataframe tbody tr th {\n        vertical-align: top;\n    }\n\n    .dataframe thead th {\n        text-align: right;\n    }\n</style>\n<table border=\"1\" class=\"dataframe\">\n  <thead>\n    <tr style=\"text-align: right;\">\n      <th></th>\n      <th>frame_id</th>\n      <th>inference_time</th>\n      <th>model</th>\n      <th>sequence_name</th>\n      <th>object_coverage</th>\n      <th>background_coverage</th>\n      <th>object_sequence_name</th>\n      <th>object_id</th>\n    </tr>\n  </thead>\n  <tbody>\n    <tr>\n      <th>0</th>\n      <td>0</td>\n      <td>25.491392</td>\n      <td>ts_dilation_3_3</td>\n      <td>bike-packing_bike-packing_001</td>\n      <td>0.971456</td>\n      <td>0.936966</td>\n      <td>bike-packing</td>\n      <td>1</td>\n    </tr>\n    <tr>\n      <th>1</th>\n      <td>1</td>\n      <td>28.357183</td>\n      <td>ts_dilation_3_3</td>\n      <td>bike-packing_bike-packing_001</td>\n      <td>0.967389</td>\n      <td>0.939151</td>\n      <td>bike-packing</td>\n      <td>1</td>\n    </tr>\n    <tr>\n      <th>2</th>\n      <td>2</td>\n      <td>26.060255</td>\n      <td>ts_dilation_3_3</td>\n      <td>bike-packing_bike-packing_001</td>\n      <td>0.970926</td>\n      <td>0.936416</td>\n      <td>bike-packing</td>\n      <td>1</td>\n    </tr>\n    <tr>\n      <th>3</th>\n      <td>3</td>\n      <td>27.517120</td>\n      <td>ts_dilation_3_3</td>\n      <td>bike-packing_bike-packing_001</td>\n      <td>0.970808</td>\n      <td>0.936302</td>\n      <td>bike-packing</td>\n      <td>1</td>\n    </tr>\n    <tr>\n      <th>4</th>\n      <td>4</td>\n      <td>26.227327</td>\n      <td>ts_dilation_3_3</td>\n      <td>bike-packing_bike-packing_001</td>\n      <td>0.990520</td>\n      <td>0.928603</td>\n      <td>bike-packing</td>\n      <td>1</td>\n    </tr>\n    <tr>\n      <th>...</th>\n      <td>...</td>\n      <td>...</td>\n      <td>...</td>\n      <td>...</td>\n      <td>...</td>\n      <td>...</td>\n      <td>...</td>\n      <td>...</td>\n    </tr>\n    <tr>\n      <th>34430</th>\n      <td>66</td>\n      <td>26.165056</td>\n      <td>ts_no_dilation</td>\n      <td>walking_walking_003</td>\n      <td>0.236302</td>\n      <td>0.944671</td>\n      <td>walking</td>\n      <td>3</td>\n    </tr>\n    <tr>\n      <th>34431</th>\n      <td>67</td>\n      <td>26.874687</td>\n      <td>ts_no_dilation</td>\n      <td>walking_walking_003</td>\n      <td>0.241014</td>\n      <td>0.937395</td>\n      <td>walking</td>\n      <td>3</td>\n    </tr>\n    <tr>\n      <th>34432</th>\n      <td>68</td>\n      <td>24.073088</td>\n      <td>ts_no_dilation</td>\n      <td>walking_walking_003</td>\n      <td>0.237284</td>\n      <td>0.933758</td>\n      <td>walking</td>\n      <td>3</td>\n    </tr>\n    <tr>\n      <th>34433</th>\n      <td>69</td>\n      <td>24.360384</td>\n      <td>ts_no_dilation</td>\n      <td>walking_walking_003</td>\n      <td>0.259947</td>\n      <td>0.919245</td>\n      <td>walking</td>\n      <td>3</td>\n    </tr>\n    <tr>\n      <th>34434</th>\n      <td>70</td>\n      <td>26.694559</td>\n      <td>ts_no_dilation</td>\n      <td>walking_walking_003</td>\n      <td>0.373653</td>\n      <td>0.896117</td>\n      <td>walking</td>\n      <td>3</td>\n    </tr>\n  </tbody>\n</table>\n<p>34435 rows × 8 columns</p>\n</div>"
     },
     "execution_count": 2,
     "metadata": {},
     "output_type": "execute_result"
    }
   ],
   "source": [
    "dataset = 'DAVIS'\n",
    "results_dirs = get_paths(f'../results/ts/{dataset}/*')\n",
    "\n",
    "times_dfs = []\n",
    "for results_dir in results_dirs:\n",
    "    for path in get_paths(f'{results_dir}/Benchmark/*/inference_times.csv'):\n",
    "        times_df = load_dataframe(path)\n",
    "        times_df['model'] = basename(results_dir)\n",
    "        times_df['sequence_name'] = basename(dirname(path))\n",
    "        times_dfs.append(times_df)\n",
    "times_df = pd.concat(times_dfs)\n",
    "\n",
    "results_dfs = []\n",
    "for results_dir in results_dirs:\n",
    "    for path in get_paths(f'{results_dir}/Evaluation/*/results.csv'):\n",
    "        results_df = load_dataframe(path)\n",
    "        results_df['model'] = basename(results_dir)\n",
    "        sequence_name = basename(dirname(path))\n",
    "        results_df['sequence_name'] = sequence_name\n",
    "        results_df['object_sequence_name'] = sequence_name.split('_')[1]\n",
    "        results_df['object_id'] = int(sequence_name.split('_')[2])\n",
    "        results_dfs.append(results_df)\n",
    "results_df = pd.concat(results_dfs)\n",
    "\n",
    "df = pd.merge(times_df, results_df, on=['model', 'sequence_name', 'frame_id'])\n",
    "df"
   ]
  },
  {
   "cell_type": "code",
   "execution_count": 3,
   "metadata": {
    "pycharm": {
     "name": "#%%\n"
    }
   },
   "outputs": [
    {
     "data": {
      "text/plain": "                 inference_time  object_coverage  background_coverage\nmodel                                                                \nts_dilation_3_3       24.038739         0.777306             0.964055\nts_dilation_3_5       29.677976         0.794485             0.955769\nts_dilation_5_3       26.993573         0.801514             0.951558\nts_dilation_5_5       31.617822         0.824154             0.934430\nts_no_dilation        24.019950         0.728417             0.975611",
      "text/html": "<div>\n<style scoped>\n    .dataframe tbody tr th:only-of-type {\n        vertical-align: middle;\n    }\n\n    .dataframe tbody tr th {\n        vertical-align: top;\n    }\n\n    .dataframe thead th {\n        text-align: right;\n    }\n</style>\n<table border=\"1\" class=\"dataframe\">\n  <thead>\n    <tr style=\"text-align: right;\">\n      <th></th>\n      <th>inference_time</th>\n      <th>object_coverage</th>\n      <th>background_coverage</th>\n    </tr>\n    <tr>\n      <th>model</th>\n      <th></th>\n      <th></th>\n      <th></th>\n    </tr>\n  </thead>\n  <tbody>\n    <tr>\n      <th>ts_dilation_3_3</th>\n      <td>24.038739</td>\n      <td>0.777306</td>\n      <td>0.964055</td>\n    </tr>\n    <tr>\n      <th>ts_dilation_3_5</th>\n      <td>29.677976</td>\n      <td>0.794485</td>\n      <td>0.955769</td>\n    </tr>\n    <tr>\n      <th>ts_dilation_5_3</th>\n      <td>26.993573</td>\n      <td>0.801514</td>\n      <td>0.951558</td>\n    </tr>\n    <tr>\n      <th>ts_dilation_5_5</th>\n      <td>31.617822</td>\n      <td>0.824154</td>\n      <td>0.934430</td>\n    </tr>\n    <tr>\n      <th>ts_no_dilation</th>\n      <td>24.019950</td>\n      <td>0.728417</td>\n      <td>0.975611</td>\n    </tr>\n  </tbody>\n</table>\n</div>"
     },
     "execution_count": 3,
     "metadata": {},
     "output_type": "execute_result"
    }
   ],
   "source": [
    "metrics = pd.DataFrame()\n",
    "metrics['model'] = df['model']\n",
    "metrics['sequence_name'] = df['sequence_name']\n",
    "metrics['inference_time'] = df['inference_time']\n",
    "metrics['object_coverage'] = df['object_coverage']\n",
    "metrics['background_coverage'] = df['background_coverage']\n",
    "metrics.groupby('model').mean()"
   ]
  }
 ],
 "metadata": {
  "kernelspec": {
   "display_name": "Python 3",
   "language": "python",
   "name": "python3"
  },
  "language_info": {
   "codemirror_mode": {
    "name": "ipython",
    "version": 3
   },
   "file_extension": ".py",
   "mimetype": "text/x-python",
   "name": "python",
   "nbconvert_exporter": "python",
   "pygments_lexer": "ipython3",
   "version": "3.8.2"
  }
 },
 "nbformat": 4,
 "nbformat_minor": 1
}