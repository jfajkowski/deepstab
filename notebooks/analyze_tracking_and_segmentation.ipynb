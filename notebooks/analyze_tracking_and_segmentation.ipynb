{
 "cells": [
  {
   "cell_type": "code",
   "execution_count": 1,
   "metadata": {
    "collapsed": true
   },
   "outputs": [],
   "source": [
    "import glob\n",
    "from os.path import dirname, basename\n",
    "import pandas as pd\n",
    "from inpainting.load import load_dataframe"
   ]
  },
  {
   "cell_type": "code",
   "execution_count": 2,
   "metadata": {
    "pycharm": {
     "name": "#%%\n"
    }
   },
   "outputs": [
    {
     "data": {
      "text/plain": "       frame_id  object_id  object_to_screen_ratio object_sequence_name  \\\n0             0          1                0.077911         bike-packing   \n1             0          1                0.077911         bike-packing   \n2             0          1                0.077911         bike-packing   \n3             0          1                0.077911         bike-packing   \n4             0          1                0.077911         bike-packing   \n...         ...        ...                     ...                  ...   \n33170        70          3                0.041061              walking   \n33171        70          3                0.041061              walking   \n33172        70          3                0.041061              walking   \n33173        70          3                0.041061              walking   \n33174        70          3                0.041061              walking   \n\n       object_coverage  background_coverage            model  \\\n0             0.971994             0.932807  ts_dilation_3_3   \n1             0.975127             0.924044  ts_dilation_3_5   \n2             0.976400             0.919626  ts_dilation_5_3   \n3             0.979436             0.901928  ts_dilation_5_5   \n4             0.924305             0.943687   ts_no_dilation   \n...                ...                  ...              ...   \n33170         0.489038             0.870395  ts_dilation_3_3   \n33171         0.566704             0.859687  ts_dilation_3_5   \n33172         0.600892             0.854420  ts_dilation_5_3   \n33173         0.715719             0.834840  ts_dilation_5_5   \n33174         0.355258             0.887899   ts_no_dilation   \n\n                       sequence_name  inference_time  \n0      bike-packing_bike-packing_001       28.730335  \n1      bike-packing_bike-packing_001       31.500193  \n2      bike-packing_bike-packing_001       28.182783  \n3      bike-packing_bike-packing_001       34.999073  \n4      bike-packing_bike-packing_001       27.487904  \n...                              ...             ...  \n33170            walking_walking_003       29.301216  \n33171            walking_walking_003       35.937824  \n33172            walking_walking_003       25.568289  \n33173            walking_walking_003       29.732224  \n33174            walking_walking_003       24.259808  \n\n[33175 rows x 9 columns]",
      "text/html": "<div>\n<style scoped>\n    .dataframe tbody tr th:only-of-type {\n        vertical-align: middle;\n    }\n\n    .dataframe tbody tr th {\n        vertical-align: top;\n    }\n\n    .dataframe thead th {\n        text-align: right;\n    }\n</style>\n<table border=\"1\" class=\"dataframe\">\n  <thead>\n    <tr style=\"text-align: right;\">\n      <th></th>\n      <th>frame_id</th>\n      <th>object_id</th>\n      <th>object_to_screen_ratio</th>\n      <th>object_sequence_name</th>\n      <th>object_coverage</th>\n      <th>background_coverage</th>\n      <th>model</th>\n      <th>sequence_name</th>\n      <th>inference_time</th>\n    </tr>\n  </thead>\n  <tbody>\n    <tr>\n      <th>0</th>\n      <td>0</td>\n      <td>1</td>\n      <td>0.077911</td>\n      <td>bike-packing</td>\n      <td>0.971994</td>\n      <td>0.932807</td>\n      <td>ts_dilation_3_3</td>\n      <td>bike-packing_bike-packing_001</td>\n      <td>28.730335</td>\n    </tr>\n    <tr>\n      <th>1</th>\n      <td>0</td>\n      <td>1</td>\n      <td>0.077911</td>\n      <td>bike-packing</td>\n      <td>0.975127</td>\n      <td>0.924044</td>\n      <td>ts_dilation_3_5</td>\n      <td>bike-packing_bike-packing_001</td>\n      <td>31.500193</td>\n    </tr>\n    <tr>\n      <th>2</th>\n      <td>0</td>\n      <td>1</td>\n      <td>0.077911</td>\n      <td>bike-packing</td>\n      <td>0.976400</td>\n      <td>0.919626</td>\n      <td>ts_dilation_5_3</td>\n      <td>bike-packing_bike-packing_001</td>\n      <td>28.182783</td>\n    </tr>\n    <tr>\n      <th>3</th>\n      <td>0</td>\n      <td>1</td>\n      <td>0.077911</td>\n      <td>bike-packing</td>\n      <td>0.979436</td>\n      <td>0.901928</td>\n      <td>ts_dilation_5_5</td>\n      <td>bike-packing_bike-packing_001</td>\n      <td>34.999073</td>\n    </tr>\n    <tr>\n      <th>4</th>\n      <td>0</td>\n      <td>1</td>\n      <td>0.077911</td>\n      <td>bike-packing</td>\n      <td>0.924305</td>\n      <td>0.943687</td>\n      <td>ts_no_dilation</td>\n      <td>bike-packing_bike-packing_001</td>\n      <td>27.487904</td>\n    </tr>\n    <tr>\n      <th>...</th>\n      <td>...</td>\n      <td>...</td>\n      <td>...</td>\n      <td>...</td>\n      <td>...</td>\n      <td>...</td>\n      <td>...</td>\n      <td>...</td>\n      <td>...</td>\n    </tr>\n    <tr>\n      <th>33170</th>\n      <td>70</td>\n      <td>3</td>\n      <td>0.041061</td>\n      <td>walking</td>\n      <td>0.489038</td>\n      <td>0.870395</td>\n      <td>ts_dilation_3_3</td>\n      <td>walking_walking_003</td>\n      <td>29.301216</td>\n    </tr>\n    <tr>\n      <th>33171</th>\n      <td>70</td>\n      <td>3</td>\n      <td>0.041061</td>\n      <td>walking</td>\n      <td>0.566704</td>\n      <td>0.859687</td>\n      <td>ts_dilation_3_5</td>\n      <td>walking_walking_003</td>\n      <td>35.937824</td>\n    </tr>\n    <tr>\n      <th>33172</th>\n      <td>70</td>\n      <td>3</td>\n      <td>0.041061</td>\n      <td>walking</td>\n      <td>0.600892</td>\n      <td>0.854420</td>\n      <td>ts_dilation_5_3</td>\n      <td>walking_walking_003</td>\n      <td>25.568289</td>\n    </tr>\n    <tr>\n      <th>33173</th>\n      <td>70</td>\n      <td>3</td>\n      <td>0.041061</td>\n      <td>walking</td>\n      <td>0.715719</td>\n      <td>0.834840</td>\n      <td>ts_dilation_5_5</td>\n      <td>walking_walking_003</td>\n      <td>29.732224</td>\n    </tr>\n    <tr>\n      <th>33174</th>\n      <td>70</td>\n      <td>3</td>\n      <td>0.041061</td>\n      <td>walking</td>\n      <td>0.355258</td>\n      <td>0.887899</td>\n      <td>ts_no_dilation</td>\n      <td>walking_walking_003</td>\n      <td>24.259808</td>\n    </tr>\n  </tbody>\n</table>\n<p>33175 rows × 9 columns</p>\n</div>"
     },
     "execution_count": 2,
     "metadata": {},
     "output_type": "execute_result"
    }
   ],
   "source": [
    "data_dir = '../data'\n",
    "results_dirs = glob.glob('../results/tracking_and_segmentation/*')\n",
    "\n",
    "\n",
    "object_stats_dfs = []\n",
    "for path in glob.glob(f'{data_dir}/interim/DAVIS/ObjectStats/*/raw_object_stats.csv'):\n",
    "    object_stats_df = load_dataframe(path)\n",
    "    object_stats_df['object_sequence_name'] = basename(dirname(path))\n",
    "    object_stats_dfs.append(object_stats_df)\n",
    "object_stats_df = pd.concat(object_stats_dfs)\n",
    "\n",
    "times_dfs = []\n",
    "for results_dir in results_dirs:\n",
    "    for path in glob.glob(f'{results_dir}/Benchmark/*/inference_times.csv'):\n",
    "        times_df = load_dataframe(path)\n",
    "        times_df['model'] = basename(results_dir)\n",
    "        times_df['sequence_name'] = basename(dirname(path))\n",
    "        times_dfs.append(times_df)\n",
    "times_dfs = pd.concat(times_dfs)\n",
    "\n",
    "results_dfs = []\n",
    "for results_dir in results_dirs:\n",
    "    for path in glob.glob(f'{results_dir}/Evaluation/*/results.csv'):\n",
    "        results_df = load_dataframe(path)\n",
    "        results_df['model'] = basename(results_dir)\n",
    "        sequence_name = basename(dirname(path))\n",
    "        results_df['sequence_name'] = sequence_name\n",
    "        results_df['object_sequence_name'] = sequence_name.split('_')[1]\n",
    "        results_df['object_id'] = int(sequence_name.split('_')[2])\n",
    "        results_dfs.append(results_df)\n",
    "results_df = pd.concat(results_dfs)\n",
    "\n",
    "df = pd.merge(object_stats_df, results_df, on=['object_sequence_name', 'object_id', 'frame_id'])\n",
    "df = pd.merge(df, times_dfs, on=['model', 'sequence_name', 'frame_id'])\n",
    "df"
   ]
  },
  {
   "cell_type": "code",
   "execution_count": 3,
   "metadata": {
    "pycharm": {
     "name": "#%%\n"
    }
   },
   "outputs": [
    {
     "data": {
      "text/plain": "                       fps  object_coverage  background_coverage\nmodel                                                           \nts_dilation_3_3  24.747599         0.785507             0.963621\nts_dilation_3_5  30.080353         0.802095             0.955164\nts_dilation_5_3  27.618629         0.808829             0.950868\nts_dilation_5_5  32.443763         0.830068             0.933415\nts_no_dilation   24.699951         0.738382             0.975418",
      "text/html": "<div>\n<style scoped>\n    .dataframe tbody tr th:only-of-type {\n        vertical-align: middle;\n    }\n\n    .dataframe tbody tr th {\n        vertical-align: top;\n    }\n\n    .dataframe thead th {\n        text-align: right;\n    }\n</style>\n<table border=\"1\" class=\"dataframe\">\n  <thead>\n    <tr style=\"text-align: right;\">\n      <th></th>\n      <th>fps</th>\n      <th>object_coverage</th>\n      <th>background_coverage</th>\n    </tr>\n    <tr>\n      <th>model</th>\n      <th></th>\n      <th></th>\n      <th></th>\n    </tr>\n  </thead>\n  <tbody>\n    <tr>\n      <th>ts_dilation_3_3</th>\n      <td>24.747599</td>\n      <td>0.785507</td>\n      <td>0.963621</td>\n    </tr>\n    <tr>\n      <th>ts_dilation_3_5</th>\n      <td>30.080353</td>\n      <td>0.802095</td>\n      <td>0.955164</td>\n    </tr>\n    <tr>\n      <th>ts_dilation_5_3</th>\n      <td>27.618629</td>\n      <td>0.808829</td>\n      <td>0.950868</td>\n    </tr>\n    <tr>\n      <th>ts_dilation_5_5</th>\n      <td>32.443763</td>\n      <td>0.830068</td>\n      <td>0.933415</td>\n    </tr>\n    <tr>\n      <th>ts_no_dilation</th>\n      <td>24.699951</td>\n      <td>0.738382</td>\n      <td>0.975418</td>\n    </tr>\n  </tbody>\n</table>\n</div>"
     },
     "execution_count": 3,
     "metadata": {},
     "output_type": "execute_result"
    }
   ],
   "source": [
    "metrics = pd.DataFrame()\n",
    "metrics['model'] = df['model']\n",
    "metrics['sequence_name'] = df['sequence_name']\n",
    "metrics['fps'] = df['inference_time']\n",
    "metrics['object_coverage'] = df['object_coverage']\n",
    "metrics['background_coverage'] = df['background_coverage']\n",
    "metrics.groupby('model').mean()"
   ]
  }
 ],
 "metadata": {
  "kernelspec": {
   "display_name": "Python 3",
   "language": "python",
   "name": "python3"
  },
  "language_info": {
   "codemirror_mode": {
    "name": "ipython",
    "version": 3
   },
   "file_extension": ".py",
   "mimetype": "text/x-python",
   "name": "python",
   "nbconvert_exporter": "python",
   "pygments_lexer": "ipython3",
   "version": "3.8.2"
  }
 },
 "nbformat": 4,
 "nbformat_minor": 1
}