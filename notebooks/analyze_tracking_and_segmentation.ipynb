{
 "cells": [
  {
   "cell_type": "code",
   "execution_count": 1,
   "metadata": {
    "collapsed": true
   },
   "outputs": [],
   "source": [
    "from os.path import dirname, basename\n",
    "\n",
    "import pandas as pd\n",
    "\n",
    "from inpainting.load import load_dataframe\n",
    "from inpainting.utils import get_paths"
   ]
  },
  {
   "cell_type": "code",
   "execution_count": 2,
   "metadata": {
    "pycharm": {
     "name": "#%%\n"
    }
   },
   "outputs": [
    {
     "data": {
      "text/plain": "      frame_id  inference_time            model              sequence_name  \\\n0            0       29.907040  ts_dilation_3_3  breakdance_breakdance_001   \n1            1       30.807487  ts_dilation_3_3  breakdance_breakdance_001   \n2            2       29.123968  ts_dilation_3_3  breakdance_breakdance_001   \n3            3       25.617023  ts_dilation_3_3  breakdance_breakdance_001   \n4            4       27.912607  ts_dilation_3_3  breakdance_breakdance_001   \n...        ...             ...              ...                        ...   \n1335        64       19.942720   ts_no_dilation          tennis_tennis_001   \n1336        65       20.285055   ts_no_dilation          tennis_tennis_001   \n1337        66       19.665312   ts_no_dilation          tennis_tennis_001   \n1338        67       18.892609   ts_no_dilation          tennis_tennis_001   \n1339        68       19.147648   ts_no_dilation          tennis_tennis_001   \n\n      object_coverage  background_coverage object_sequence_name  object_id  \n0            0.909841             0.962765           breakdance          1  \n1            0.905556             0.972513           breakdance          1  \n2            0.862681             0.972409           breakdance          1  \n3            0.862861             0.973241           breakdance          1  \n4            0.844502             0.980657           breakdance          1  \n...               ...                  ...                  ...        ...  \n1335         0.917388             0.992872               tennis          1  \n1336         0.949545             0.991628               tennis          1  \n1337         0.944939             0.992127               tennis          1  \n1338         0.937358             0.993678               tennis          1  \n1339         0.921894             0.993569               tennis          1  \n\n[1340 rows x 8 columns]",
      "text/html": "<div>\n<style scoped>\n    .dataframe tbody tr th:only-of-type {\n        vertical-align: middle;\n    }\n\n    .dataframe tbody tr th {\n        vertical-align: top;\n    }\n\n    .dataframe thead th {\n        text-align: right;\n    }\n</style>\n<table border=\"1\" class=\"dataframe\">\n  <thead>\n    <tr style=\"text-align: right;\">\n      <th></th>\n      <th>frame_id</th>\n      <th>inference_time</th>\n      <th>model</th>\n      <th>sequence_name</th>\n      <th>object_coverage</th>\n      <th>background_coverage</th>\n      <th>object_sequence_name</th>\n      <th>object_id</th>\n    </tr>\n  </thead>\n  <tbody>\n    <tr>\n      <th>0</th>\n      <td>0</td>\n      <td>29.907040</td>\n      <td>ts_dilation_3_3</td>\n      <td>breakdance_breakdance_001</td>\n      <td>0.909841</td>\n      <td>0.962765</td>\n      <td>breakdance</td>\n      <td>1</td>\n    </tr>\n    <tr>\n      <th>1</th>\n      <td>1</td>\n      <td>30.807487</td>\n      <td>ts_dilation_3_3</td>\n      <td>breakdance_breakdance_001</td>\n      <td>0.905556</td>\n      <td>0.972513</td>\n      <td>breakdance</td>\n      <td>1</td>\n    </tr>\n    <tr>\n      <th>2</th>\n      <td>2</td>\n      <td>29.123968</td>\n      <td>ts_dilation_3_3</td>\n      <td>breakdance_breakdance_001</td>\n      <td>0.862681</td>\n      <td>0.972409</td>\n      <td>breakdance</td>\n      <td>1</td>\n    </tr>\n    <tr>\n      <th>3</th>\n      <td>3</td>\n      <td>25.617023</td>\n      <td>ts_dilation_3_3</td>\n      <td>breakdance_breakdance_001</td>\n      <td>0.862861</td>\n      <td>0.973241</td>\n      <td>breakdance</td>\n      <td>1</td>\n    </tr>\n    <tr>\n      <th>4</th>\n      <td>4</td>\n      <td>27.912607</td>\n      <td>ts_dilation_3_3</td>\n      <td>breakdance_breakdance_001</td>\n      <td>0.844502</td>\n      <td>0.980657</td>\n      <td>breakdance</td>\n      <td>1</td>\n    </tr>\n    <tr>\n      <th>...</th>\n      <td>...</td>\n      <td>...</td>\n      <td>...</td>\n      <td>...</td>\n      <td>...</td>\n      <td>...</td>\n      <td>...</td>\n      <td>...</td>\n    </tr>\n    <tr>\n      <th>1335</th>\n      <td>64</td>\n      <td>19.942720</td>\n      <td>ts_no_dilation</td>\n      <td>tennis_tennis_001</td>\n      <td>0.917388</td>\n      <td>0.992872</td>\n      <td>tennis</td>\n      <td>1</td>\n    </tr>\n    <tr>\n      <th>1336</th>\n      <td>65</td>\n      <td>20.285055</td>\n      <td>ts_no_dilation</td>\n      <td>tennis_tennis_001</td>\n      <td>0.949545</td>\n      <td>0.991628</td>\n      <td>tennis</td>\n      <td>1</td>\n    </tr>\n    <tr>\n      <th>1337</th>\n      <td>66</td>\n      <td>19.665312</td>\n      <td>ts_no_dilation</td>\n      <td>tennis_tennis_001</td>\n      <td>0.944939</td>\n      <td>0.992127</td>\n      <td>tennis</td>\n      <td>1</td>\n    </tr>\n    <tr>\n      <th>1338</th>\n      <td>67</td>\n      <td>18.892609</td>\n      <td>ts_no_dilation</td>\n      <td>tennis_tennis_001</td>\n      <td>0.937358</td>\n      <td>0.993678</td>\n      <td>tennis</td>\n      <td>1</td>\n    </tr>\n    <tr>\n      <th>1339</th>\n      <td>68</td>\n      <td>19.147648</td>\n      <td>ts_no_dilation</td>\n      <td>tennis_tennis_001</td>\n      <td>0.921894</td>\n      <td>0.993569</td>\n      <td>tennis</td>\n      <td>1</td>\n    </tr>\n  </tbody>\n</table>\n<p>1340 rows × 8 columns</p>\n</div>"
     },
     "execution_count": 2,
     "metadata": {},
     "output_type": "execute_result"
    }
   ],
   "source": [
    "dataset = 'demo'\n",
    "results_dirs = get_paths(f'../results/ts/{dataset}/*')\n",
    "\n",
    "times_dfs = []\n",
    "for results_dir in results_dirs:\n",
    "    for path in get_paths(f'{results_dir}/Benchmark/*/inference_times.csv'):\n",
    "        times_df = load_dataframe(path)\n",
    "        times_df['model'] = basename(results_dir)\n",
    "        times_df['sequence_name'] = basename(dirname(path))\n",
    "        times_dfs.append(times_df)\n",
    "times_df = pd.concat(times_dfs)\n",
    "\n",
    "results_dfs = []\n",
    "for results_dir in results_dirs:\n",
    "    for path in get_paths(f'{results_dir}/Evaluation/*/results.csv'):\n",
    "        results_df = load_dataframe(path)\n",
    "        results_df['model'] = basename(results_dir)\n",
    "        sequence_name = basename(dirname(path))\n",
    "        results_df['sequence_name'] = sequence_name\n",
    "        results_df['object_sequence_name'] = sequence_name.split('_')[1]\n",
    "        results_df['object_id'] = int(sequence_name.split('_')[2])\n",
    "        results_dfs.append(results_df)\n",
    "results_df = pd.concat(results_dfs)\n",
    "\n",
    "df = pd.merge(times_df, results_df, on=['model', 'sequence_name', 'frame_id'])\n",
    "df"
   ]
  },
  {
   "cell_type": "code",
   "execution_count": 3,
   "metadata": {
    "pycharm": {
     "name": "#%%\n"
    }
   },
   "outputs": [
    {
     "data": {
      "text/plain": "                       fps  object_coverage  background_coverage\nmodel                                                           \nts_dilation_3_3  21.848510         0.636011             0.971877\nts_dilation_3_5  27.034036         0.643060             0.964121\nts_dilation_5_3  24.047414         0.645923             0.960203\nts_dilation_5_5  29.392590         0.655772             0.944328\nts_no_dilation   20.881209         0.613708             0.982910",
      "text/html": "<div>\n<style scoped>\n    .dataframe tbody tr th:only-of-type {\n        vertical-align: middle;\n    }\n\n    .dataframe tbody tr th {\n        vertical-align: top;\n    }\n\n    .dataframe thead th {\n        text-align: right;\n    }\n</style>\n<table border=\"1\" class=\"dataframe\">\n  <thead>\n    <tr style=\"text-align: right;\">\n      <th></th>\n      <th>fps</th>\n      <th>object_coverage</th>\n      <th>background_coverage</th>\n    </tr>\n    <tr>\n      <th>model</th>\n      <th></th>\n      <th></th>\n      <th></th>\n    </tr>\n  </thead>\n  <tbody>\n    <tr>\n      <th>ts_dilation_3_3</th>\n      <td>21.848510</td>\n      <td>0.636011</td>\n      <td>0.971877</td>\n    </tr>\n    <tr>\n      <th>ts_dilation_3_5</th>\n      <td>27.034036</td>\n      <td>0.643060</td>\n      <td>0.964121</td>\n    </tr>\n    <tr>\n      <th>ts_dilation_5_3</th>\n      <td>24.047414</td>\n      <td>0.645923</td>\n      <td>0.960203</td>\n    </tr>\n    <tr>\n      <th>ts_dilation_5_5</th>\n      <td>29.392590</td>\n      <td>0.655772</td>\n      <td>0.944328</td>\n    </tr>\n    <tr>\n      <th>ts_no_dilation</th>\n      <td>20.881209</td>\n      <td>0.613708</td>\n      <td>0.982910</td>\n    </tr>\n  </tbody>\n</table>\n</div>"
     },
     "execution_count": 3,
     "metadata": {},
     "output_type": "execute_result"
    }
   ],
   "source": [
    "metrics = pd.DataFrame()\n",
    "metrics['model'] = df['model']\n",
    "metrics['sequence_name'] = df['sequence_name']\n",
    "metrics['fps'] = df['inference_time']\n",
    "metrics['object_coverage'] = df['object_coverage']\n",
    "metrics['background_coverage'] = df['background_coverage']\n",
    "metrics.groupby('model').mean()"
   ]
  }
 ],
 "metadata": {
  "kernelspec": {
   "display_name": "Python 3",
   "language": "python",
   "name": "python3"
  },
  "language_info": {
   "codemirror_mode": {
    "name": "ipython",
    "version": 3
   },
   "file_extension": ".py",
   "mimetype": "text/x-python",
   "name": "python",
   "nbconvert_exporter": "python",
   "pygments_lexer": "ipython3",
   "version": "3.8.2"
  }
 },
 "nbformat": 4,
 "nbformat_minor": 1
}