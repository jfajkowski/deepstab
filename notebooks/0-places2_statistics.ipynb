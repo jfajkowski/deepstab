{
 "cells": [
  {
   "cell_type": "code",
   "execution_count": null,
   "metadata": {
    "collapsed": true,
    "pycharm": {
     "is_executing": true
    }
   },
   "outputs": [
    {
     "name": "stderr",
     "text": [
      "6191it [00:49, 139.12it/s]"
     ],
     "output_type": "stream"
    }
   ],
   "source": [
    "import glob\n",
    "\n",
    "import cv2 as cv\n",
    "import numpy as np\n",
    "from tqdm import tqdm\n",
    "\n",
    "\n",
    "paths = glob.glob('../data/raw/image/Places2/data_large/**/*.jpg', recursive=True)"
   ]
  },
  {
   "cell_type": "code",
   "execution_count": null,
   "outputs": [],
   "source": [
    "images_number = 0\n",
    "min_w = float('inf')\n",
    "min_h = float('inf')\n",
    "for path in tqdm(paths):\n",
    "    image = cv.imread(path)\n",
    "    images_number += 1\n",
    "    min_h = min(image.shape[0], min_h) \n",
    "    min_w = min(image.shape[1], min_w) \n",
    "print(f'Min. resolution: {min_w}x{min_h}, number of images: {images_number}')"
   ],
   "metadata": {
    "collapsed": false,
    "pycharm": {
     "name": "#%%\n"
    }
   }
  },
  {
   "cell_type": "code",
   "execution_count": null,
   "outputs": [],
   "source": [
    "images_sum = np.zeros((min_h, min_w, 3))\n",
    "for path in tqdm(paths):\n",
    "    image = cv.resize(cv.imread(path), (min_w, min_h))\n",
    "    images_sum += image / 255\n",
    "print(f'Mean:')"
   ],
   "metadata": {
    "collapsed": false,
    "pycharm": {
     "name": "#%%\n"
    }
   }
  }
 ],
 "metadata": {
  "kernelspec": {
   "name": "python3",
   "language": "python",
   "display_name": "Python 3"
  },
  "language_info": {
   "codemirror_mode": {
    "name": "ipython",
    "version": 2
   },
   "file_extension": ".py",
   "mimetype": "text/x-python",
   "name": "python",
   "nbconvert_exporter": "python",
   "pygments_lexer": "ipython2",
   "version": "2.7.6"
  },
  "pycharm": {
   "stem_cell": {
    "cell_type": "raw",
    "source": [],
    "metadata": {
     "collapsed": false
    }
   }
  }
 },
 "nbformat": 4,
 "nbformat_minor": 0
}