{
 "cells": [
  {
   "cell_type": "code",
   "execution_count": 15,
   "metadata": {
    "collapsed": true
   },
   "outputs": [],
   "source": [
    "import glob\n",
    "from os.path import dirname, basename\n",
    "import pandas as pd"
   ]
  },
  {
   "cell_type": "code",
   "execution_count": 16,
   "outputs": [
    {
     "data": {
      "text/plain": "      frame_id  object_id  object_to_screen_ratio object_sequence_name  \\\n0            0          1                0.110939           breakdance   \n1            0          1                0.110939           breakdance   \n2            0          1                0.110939           breakdance   \n3            0          1                0.110939           breakdance   \n4            0          1                0.110939           breakdance   \n...        ...        ...                     ...                  ...   \n2180        68          1                0.036728               tennis   \n2181        68          1                0.036728               tennis   \n2182        68          1                0.036728               tennis   \n2183        68          1                0.036728               tennis   \n2184        68          1                0.036728               tennis   \n\n      mean_squared_error  peak_signal_noise_ratio  structural_similarity  \\\n0             360.423803                22.562669               0.906953   \n1             189.509466                25.354495               0.932064   \n2             268.013954                23.849230               0.905166   \n3             206.578341                24.979956               0.928127   \n4             214.097310                24.824691               0.920352   \n...                  ...                      ...                    ...   \n2180           41.109530                31.991378               0.978259   \n2181          163.697439                25.990385               0.966105   \n2182          178.500987                25.614397               0.963143   \n2183           54.437164                30.771849               0.975505   \n2184           40.668104                32.038264               0.978553   \n\n              model            sequence_name  \n0     sf_deepfillv1  flamingo_breakdance_001  \n1     sf_deepfillv1    tennis_breakdance_001  \n2     sf_deepfillv2  flamingo_breakdance_001  \n3     sf_deepfillv2    tennis_breakdance_001  \n4     sf_kernelfill  flamingo_breakdance_001  \n...             ...                      ...  \n2180  sf_kernelfill      flamingo_tennis_001  \n2181   sf_pconvunet    breakdance_tennis_001  \n2182   sf_pconvunet      flamingo_tennis_001  \n2183  sf_regionfill    breakdance_tennis_001  \n2184  sf_regionfill      flamingo_tennis_001  \n\n[2185 rows x 9 columns]",
      "text/html": "<div>\n<style scoped>\n    .dataframe tbody tr th:only-of-type {\n        vertical-align: middle;\n    }\n\n    .dataframe tbody tr th {\n        vertical-align: top;\n    }\n\n    .dataframe thead th {\n        text-align: right;\n    }\n</style>\n<table border=\"1\" class=\"dataframe\">\n  <thead>\n    <tr style=\"text-align: right;\">\n      <th></th>\n      <th>frame_id</th>\n      <th>object_id</th>\n      <th>object_to_screen_ratio</th>\n      <th>object_sequence_name</th>\n      <th>mean_squared_error</th>\n      <th>peak_signal_noise_ratio</th>\n      <th>structural_similarity</th>\n      <th>model</th>\n      <th>sequence_name</th>\n    </tr>\n  </thead>\n  <tbody>\n    <tr>\n      <th>0</th>\n      <td>0</td>\n      <td>1</td>\n      <td>0.110939</td>\n      <td>breakdance</td>\n      <td>360.423803</td>\n      <td>22.562669</td>\n      <td>0.906953</td>\n      <td>sf_deepfillv1</td>\n      <td>flamingo_breakdance_001</td>\n    </tr>\n    <tr>\n      <th>1</th>\n      <td>0</td>\n      <td>1</td>\n      <td>0.110939</td>\n      <td>breakdance</td>\n      <td>189.509466</td>\n      <td>25.354495</td>\n      <td>0.932064</td>\n      <td>sf_deepfillv1</td>\n      <td>tennis_breakdance_001</td>\n    </tr>\n    <tr>\n      <th>2</th>\n      <td>0</td>\n      <td>1</td>\n      <td>0.110939</td>\n      <td>breakdance</td>\n      <td>268.013954</td>\n      <td>23.849230</td>\n      <td>0.905166</td>\n      <td>sf_deepfillv2</td>\n      <td>flamingo_breakdance_001</td>\n    </tr>\n    <tr>\n      <th>3</th>\n      <td>0</td>\n      <td>1</td>\n      <td>0.110939</td>\n      <td>breakdance</td>\n      <td>206.578341</td>\n      <td>24.979956</td>\n      <td>0.928127</td>\n      <td>sf_deepfillv2</td>\n      <td>tennis_breakdance_001</td>\n    </tr>\n    <tr>\n      <th>4</th>\n      <td>0</td>\n      <td>1</td>\n      <td>0.110939</td>\n      <td>breakdance</td>\n      <td>214.097310</td>\n      <td>24.824691</td>\n      <td>0.920352</td>\n      <td>sf_kernelfill</td>\n      <td>flamingo_breakdance_001</td>\n    </tr>\n    <tr>\n      <th>...</th>\n      <td>...</td>\n      <td>...</td>\n      <td>...</td>\n      <td>...</td>\n      <td>...</td>\n      <td>...</td>\n      <td>...</td>\n      <td>...</td>\n      <td>...</td>\n    </tr>\n    <tr>\n      <th>2180</th>\n      <td>68</td>\n      <td>1</td>\n      <td>0.036728</td>\n      <td>tennis</td>\n      <td>41.109530</td>\n      <td>31.991378</td>\n      <td>0.978259</td>\n      <td>sf_kernelfill</td>\n      <td>flamingo_tennis_001</td>\n    </tr>\n    <tr>\n      <th>2181</th>\n      <td>68</td>\n      <td>1</td>\n      <td>0.036728</td>\n      <td>tennis</td>\n      <td>163.697439</td>\n      <td>25.990385</td>\n      <td>0.966105</td>\n      <td>sf_pconvunet</td>\n      <td>breakdance_tennis_001</td>\n    </tr>\n    <tr>\n      <th>2182</th>\n      <td>68</td>\n      <td>1</td>\n      <td>0.036728</td>\n      <td>tennis</td>\n      <td>178.500987</td>\n      <td>25.614397</td>\n      <td>0.963143</td>\n      <td>sf_pconvunet</td>\n      <td>flamingo_tennis_001</td>\n    </tr>\n    <tr>\n      <th>2183</th>\n      <td>68</td>\n      <td>1</td>\n      <td>0.036728</td>\n      <td>tennis</td>\n      <td>54.437164</td>\n      <td>30.771849</td>\n      <td>0.975505</td>\n      <td>sf_regionfill</td>\n      <td>breakdance_tennis_001</td>\n    </tr>\n    <tr>\n      <th>2184</th>\n      <td>68</td>\n      <td>1</td>\n      <td>0.036728</td>\n      <td>tennis</td>\n      <td>40.668104</td>\n      <td>32.038264</td>\n      <td>0.978553</td>\n      <td>sf_regionfill</td>\n      <td>flamingo_tennis_001</td>\n    </tr>\n  </tbody>\n</table>\n<p>2185 rows × 9 columns</p>\n</div>"
     },
     "execution_count": 16,
     "metadata": {},
     "output_type": "execute_result"
    }
   ],
   "source": [
    "data_dir = '../data'\n",
    "results_dir = '../results'\n",
    "dataset = 'demo'\n",
    "sf_inpainting_models = [\n",
    "    'sf_deepfillv1',\n",
    "    'sf_deepfillv2',\n",
    "    'sf_kernelfill',\n",
    "    'sf_pconvunet',\n",
    "    'sf_regionfill'\n",
    "]\n",
    "\n",
    "object_stats_dfs = []\n",
    "for path in glob.glob(f'{data_dir}/interim/{dataset}/ObjectStats/*/raw_object_stats.csv'):\n",
    "    object_stats_df = pd.read_csv(path)\n",
    "    object_stats_df['object_sequence_name'] = basename(dirname(path))\n",
    "    object_stats_dfs.append(object_stats_df)\n",
    "object_stats_df = pd.concat(object_stats_dfs)\n",
    "\n",
    "results_dfs = []\n",
    "for model in sf_inpainting_models:\n",
    "    for path in glob.glob(f'{results_dir}/inpainting/{model}/Evaluation/*/results.csv'):\n",
    "        results_df = pd.read_csv(path)\n",
    "        results_df['model'] = model\n",
    "        sequence_name = basename(dirname(path))\n",
    "        results_df['sequence_name'] = sequence_name\n",
    "        results_df['object_sequence_name'] = sequence_name.split('_')[1]\n",
    "        results_df['object_id'] = int(sequence_name.split('_')[2])\n",
    "        results_dfs.append(results_df)\n",
    "results_df = pd.concat(results_dfs)\n",
    "\n",
    "df = pd.merge(object_stats_df, results_df, on=['object_sequence_name', 'object_id', 'frame_id'])\n",
    "df"
   ],
   "metadata": {
    "collapsed": false,
    "pycharm": {
     "name": "#%%\n"
    }
   }
  },
  {
   "cell_type": "code",
   "execution_count": 17,
   "outputs": [
    {
     "data": {
      "text/plain": "               mean_squared_error  peak_signal_noise_ratio  \\\nmodel                                                        \nsf_deepfillv1          153.933700                27.014518   \nsf_deepfillv2          102.718932                28.358518   \nsf_kernelfill           72.947274                30.247913   \nsf_pconvunet           264.537325                24.274194   \nsf_regionfill           68.226020                30.560551   \n\n               structural_similarity  \nmodel                                 \nsf_deepfillv1               0.950027  \nsf_deepfillv2               0.950726  \nsf_kernelfill               0.962614  \nsf_pconvunet                0.934383  \nsf_regionfill               0.963308  ",
      "text/html": "<div>\n<style scoped>\n    .dataframe tbody tr th:only-of-type {\n        vertical-align: middle;\n    }\n\n    .dataframe tbody tr th {\n        vertical-align: top;\n    }\n\n    .dataframe thead th {\n        text-align: right;\n    }\n</style>\n<table border=\"1\" class=\"dataframe\">\n  <thead>\n    <tr style=\"text-align: right;\">\n      <th></th>\n      <th>mean_squared_error</th>\n      <th>peak_signal_noise_ratio</th>\n      <th>structural_similarity</th>\n    </tr>\n    <tr>\n      <th>model</th>\n      <th></th>\n      <th></th>\n      <th></th>\n    </tr>\n  </thead>\n  <tbody>\n    <tr>\n      <th>sf_deepfillv1</th>\n      <td>153.933700</td>\n      <td>27.014518</td>\n      <td>0.950027</td>\n    </tr>\n    <tr>\n      <th>sf_deepfillv2</th>\n      <td>102.718932</td>\n      <td>28.358518</td>\n      <td>0.950726</td>\n    </tr>\n    <tr>\n      <th>sf_kernelfill</th>\n      <td>72.947274</td>\n      <td>30.247913</td>\n      <td>0.962614</td>\n    </tr>\n    <tr>\n      <th>sf_pconvunet</th>\n      <td>264.537325</td>\n      <td>24.274194</td>\n      <td>0.934383</td>\n    </tr>\n    <tr>\n      <th>sf_regionfill</th>\n      <td>68.226020</td>\n      <td>30.560551</td>\n      <td>0.963308</td>\n    </tr>\n  </tbody>\n</table>\n</div>"
     },
     "execution_count": 17,
     "metadata": {},
     "output_type": "execute_result"
    }
   ],
   "source": [
    "metrics = pd.DataFrame()\n",
    "metrics['model'] = df['model']\n",
    "metrics['sequence_name'] = df['sequence_name']\n",
    "metrics['mean_squared_error'] = df['mean_squared_error']\n",
    "metrics['peak_signal_noise_ratio'] = df['peak_signal_noise_ratio']\n",
    "metrics['structural_similarity'] = df['structural_similarity']\n",
    "metrics.groupby('model').mean()"
   ],
   "metadata": {
    "collapsed": false,
    "pycharm": {
     "name": "#%%\n"
    }
   }
  },
  {
   "cell_type": "code",
   "execution_count": 18,
   "outputs": [
    {
     "data": {
      "text/plain": "               mean_squared_error  peak_signal_noise_ratio  \\\nmodel                                                        \nsf_deepfillv1           12.294791                 1.792648   \nsf_deepfillv2            7.823281                 1.894376   \nsf_kernelfill            5.458718                 2.029922   \nsf_pconvunet            20.214764                 1.614798   \nsf_regionfill            4.992805                 2.060402   \n\n               structural_similarity  \nmodel                                 \nsf_deepfillv1               0.064068  \nsf_deepfillv2               0.064190  \nsf_kernelfill               0.065075  \nsf_pconvunet                0.062826  \nsf_regionfill               0.065135  ",
      "text/html": "<div>\n<style scoped>\n    .dataframe tbody tr th:only-of-type {\n        vertical-align: middle;\n    }\n\n    .dataframe tbody tr th {\n        vertical-align: top;\n    }\n\n    .dataframe thead th {\n        text-align: right;\n    }\n</style>\n<table border=\"1\" class=\"dataframe\">\n  <thead>\n    <tr style=\"text-align: right;\">\n      <th></th>\n      <th>mean_squared_error</th>\n      <th>peak_signal_noise_ratio</th>\n      <th>structural_similarity</th>\n    </tr>\n    <tr>\n      <th>model</th>\n      <th></th>\n      <th></th>\n      <th></th>\n    </tr>\n  </thead>\n  <tbody>\n    <tr>\n      <th>sf_deepfillv1</th>\n      <td>12.294791</td>\n      <td>1.792648</td>\n      <td>0.064068</td>\n    </tr>\n    <tr>\n      <th>sf_deepfillv2</th>\n      <td>7.823281</td>\n      <td>1.894376</td>\n      <td>0.064190</td>\n    </tr>\n    <tr>\n      <th>sf_kernelfill</th>\n      <td>5.458718</td>\n      <td>2.029922</td>\n      <td>0.065075</td>\n    </tr>\n    <tr>\n      <th>sf_pconvunet</th>\n      <td>20.214764</td>\n      <td>1.614798</td>\n      <td>0.062826</td>\n    </tr>\n    <tr>\n      <th>sf_regionfill</th>\n      <td>4.992805</td>\n      <td>2.060402</td>\n      <td>0.065135</td>\n    </tr>\n  </tbody>\n</table>\n</div>"
     },
     "execution_count": 18,
     "metadata": {},
     "output_type": "execute_result"
    }
   ],
   "source": [
    "metrics = pd.DataFrame()\n",
    "metrics['model'] = df['model']\n",
    "metrics['sequence_name'] = df['sequence_name']\n",
    "metrics['mean_squared_error'] = df['mean_squared_error'] * df['object_to_screen_ratio']\n",
    "metrics['peak_signal_noise_ratio'] = df['peak_signal_noise_ratio'] * df['object_to_screen_ratio']\n",
    "metrics['structural_similarity'] = df['structural_similarity'] * df['object_to_screen_ratio']\n",
    "metrics.groupby('model').mean()\n"
   ],
   "metadata": {
    "collapsed": false,
    "pycharm": {
     "name": "#%%\n"
    }
   }
  }
 ],
 "metadata": {
  "kernelspec": {
   "display_name": "Python 3",
   "language": "python",
   "name": "python3"
  },
  "language_info": {
   "codemirror_mode": {
    "name": "ipython",
    "version": 2
   },
   "file_extension": ".py",
   "mimetype": "text/x-python",
   "name": "python",
   "nbconvert_exporter": "python",
   "pygments_lexer": "ipython2",
   "version": "2.7.6"
  }
 },
 "nbformat": 4,
 "nbformat_minor": 0
}