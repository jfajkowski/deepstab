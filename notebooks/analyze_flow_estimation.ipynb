{
 "cells": [
  {
   "cell_type": "code",
   "execution_count": 1,
   "metadata": {
    "collapsed": true
   },
   "outputs": [],
   "source": [
    "from os.path import dirname, basename\n",
    "\n",
    "import pandas as pd\n",
    "\n",
    "from inpainting.load import load_dataframe\n",
    "from inpainting.utils import get_paths"
   ]
  },
  {
   "cell_type": "code",
   "execution_count": 2,
   "metadata": {
    "pycharm": {
     "name": "#%%\n"
    }
   },
   "outputs": [
    {
     "data": {
      "text/plain": "      frame_id  endpoint_error        model sequence_name  inference_time\n0            0        0.217037  fe_flownet2    breakdance       74.805443\n1            1        0.169138  fe_flownet2    breakdance       75.406723\n2            2        0.169434  fe_flownet2    breakdance       55.672222\n3            3        0.191400  fe_flownet2    breakdance       50.057217\n4            4        0.253105  fe_flownet2    breakdance       51.069889\n...        ...             ...          ...           ...             ...\n1335        64        0.618832    fe_spynet        tennis       42.483551\n1336        65        0.644808    fe_spynet        tennis       42.522270\n1337        66        0.601642    fe_spynet        tennis       42.598400\n1338        67        0.551607    fe_spynet        tennis       41.916000\n1339        68        0.417363    fe_spynet        tennis       42.277119\n\n[1340 rows x 5 columns]",
      "text/html": "<div>\n<style scoped>\n    .dataframe tbody tr th:only-of-type {\n        vertical-align: middle;\n    }\n\n    .dataframe tbody tr th {\n        vertical-align: top;\n    }\n\n    .dataframe thead th {\n        text-align: right;\n    }\n</style>\n<table border=\"1\" class=\"dataframe\">\n  <thead>\n    <tr style=\"text-align: right;\">\n      <th></th>\n      <th>frame_id</th>\n      <th>endpoint_error</th>\n      <th>model</th>\n      <th>sequence_name</th>\n      <th>inference_time</th>\n    </tr>\n  </thead>\n  <tbody>\n    <tr>\n      <th>0</th>\n      <td>0</td>\n      <td>0.217037</td>\n      <td>fe_flownet2</td>\n      <td>breakdance</td>\n      <td>74.805443</td>\n    </tr>\n    <tr>\n      <th>1</th>\n      <td>1</td>\n      <td>0.169138</td>\n      <td>fe_flownet2</td>\n      <td>breakdance</td>\n      <td>75.406723</td>\n    </tr>\n    <tr>\n      <th>2</th>\n      <td>2</td>\n      <td>0.169434</td>\n      <td>fe_flownet2</td>\n      <td>breakdance</td>\n      <td>55.672222</td>\n    </tr>\n    <tr>\n      <th>3</th>\n      <td>3</td>\n      <td>0.191400</td>\n      <td>fe_flownet2</td>\n      <td>breakdance</td>\n      <td>50.057217</td>\n    </tr>\n    <tr>\n      <th>4</th>\n      <td>4</td>\n      <td>0.253105</td>\n      <td>fe_flownet2</td>\n      <td>breakdance</td>\n      <td>51.069889</td>\n    </tr>\n    <tr>\n      <th>...</th>\n      <td>...</td>\n      <td>...</td>\n      <td>...</td>\n      <td>...</td>\n      <td>...</td>\n    </tr>\n    <tr>\n      <th>1335</th>\n      <td>64</td>\n      <td>0.618832</td>\n      <td>fe_spynet</td>\n      <td>tennis</td>\n      <td>42.483551</td>\n    </tr>\n    <tr>\n      <th>1336</th>\n      <td>65</td>\n      <td>0.644808</td>\n      <td>fe_spynet</td>\n      <td>tennis</td>\n      <td>42.522270</td>\n    </tr>\n    <tr>\n      <th>1337</th>\n      <td>66</td>\n      <td>0.601642</td>\n      <td>fe_spynet</td>\n      <td>tennis</td>\n      <td>42.598400</td>\n    </tr>\n    <tr>\n      <th>1338</th>\n      <td>67</td>\n      <td>0.551607</td>\n      <td>fe_spynet</td>\n      <td>tennis</td>\n      <td>41.916000</td>\n    </tr>\n    <tr>\n      <th>1339</th>\n      <td>68</td>\n      <td>0.417363</td>\n      <td>fe_spynet</td>\n      <td>tennis</td>\n      <td>42.277119</td>\n    </tr>\n  </tbody>\n</table>\n<p>1340 rows × 5 columns</p>\n</div>"
     },
     "execution_count": 2,
     "metadata": {},
     "output_type": "execute_result"
    }
   ],
   "source": [
    "dataset = 'demo'\n",
    "results_dirs = get_paths(f'../results/fe/{dataset}/*')\n",
    "\n",
    "times_dfs = []\n",
    "for results_dir in results_dirs:\n",
    "    for path in get_paths(f'{results_dir}/Benchmark/*/inference_times.csv'):\n",
    "        times_df = load_dataframe(path)\n",
    "        times_df['model'] = basename(results_dir)\n",
    "        times_df['sequence_name'] = basename(dirname(path))\n",
    "        times_dfs.append(times_df)\n",
    "times_dfs = pd.concat(times_dfs)\n",
    "\n",
    "results_dfs = []\n",
    "for results_dir in results_dirs:\n",
    "    for path in get_paths(f'{results_dir}/Evaluation/*/results.csv'):\n",
    "        results_df = load_dataframe(path)\n",
    "        results_df['model'] = basename(results_dir)\n",
    "        results_df['sequence_name'] = basename(dirname(path))\n",
    "        results_dfs.append(results_df)\n",
    "results_df = pd.concat(results_dfs)\n",
    "\n",
    "df = pd.merge(results_df, times_dfs, on=['model', 'sequence_name', 'frame_id'])\n",
    "df"
   ]
  },
  {
   "cell_type": "code",
   "execution_count": 3,
   "metadata": {
    "pycharm": {
     "name": "#%%\n"
    }
   },
   "outputs": [
    {
     "data": {
      "text/plain": "                inference_time  endpoint_error\nmodel                                         \nfe_flownet2          54.444576        0.149737\nfe_liteflownet       37.667426        0.434138\nfe_maskflownet       35.662817        0.386412\nfe_pwcnet            25.119936        0.394101\nfe_spynet            39.268531        0.518358",
      "text/html": "<div>\n<style scoped>\n    .dataframe tbody tr th:only-of-type {\n        vertical-align: middle;\n    }\n\n    .dataframe tbody tr th {\n        vertical-align: top;\n    }\n\n    .dataframe thead th {\n        text-align: right;\n    }\n</style>\n<table border=\"1\" class=\"dataframe\">\n  <thead>\n    <tr style=\"text-align: right;\">\n      <th></th>\n      <th>inference_time</th>\n      <th>endpoint_error</th>\n    </tr>\n    <tr>\n      <th>model</th>\n      <th></th>\n      <th></th>\n    </tr>\n  </thead>\n  <tbody>\n    <tr>\n      <th>fe_flownet2</th>\n      <td>54.444576</td>\n      <td>0.149737</td>\n    </tr>\n    <tr>\n      <th>fe_liteflownet</th>\n      <td>37.667426</td>\n      <td>0.434138</td>\n    </tr>\n    <tr>\n      <th>fe_maskflownet</th>\n      <td>35.662817</td>\n      <td>0.386412</td>\n    </tr>\n    <tr>\n      <th>fe_pwcnet</th>\n      <td>25.119936</td>\n      <td>0.394101</td>\n    </tr>\n    <tr>\n      <th>fe_spynet</th>\n      <td>39.268531</td>\n      <td>0.518358</td>\n    </tr>\n  </tbody>\n</table>\n</div>"
     },
     "execution_count": 3,
     "metadata": {},
     "output_type": "execute_result"
    }
   ],
   "source": [
    "metrics = pd.DataFrame()\n",
    "metrics['model'] = df['model']\n",
    "metrics['sequence_name'] = df['sequence_name']\n",
    "metrics['inference_time'] = df['inference_time']\n",
    "metrics['endpoint_error'] = df['endpoint_error']\n",
    "metrics.groupby('model').mean()\n",
    "\n"
   ]
  }
 ],
 "metadata": {
  "kernelspec": {
   "display_name": "Python 3",
   "language": "python",
   "name": "python3"
  },
  "language_info": {
   "codemirror_mode": {
    "name": "ipython",
    "version": 3
   },
   "file_extension": ".py",
   "mimetype": "text/x-python",
   "name": "python",
   "nbconvert_exporter": "python",
   "pygments_lexer": "ipython3",
   "version": "3.8.2"
  }
 },
 "nbformat": 4,
 "nbformat_minor": 1
}