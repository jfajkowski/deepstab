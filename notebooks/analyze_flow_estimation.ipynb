{
 "cells": [
  {
   "cell_type": "code",
   "execution_count": 1,
   "metadata": {
    "collapsed": true
   },
   "outputs": [],
   "source": [
    "import glob\n",
    "from os.path import dirname, basename\n",
    "import pandas as pd\n",
    "from inpainting.load import load_dataframe\n",
    "from inpainting.utils import get_paths"
   ]
  },
  {
   "cell_type": "code",
   "execution_count": 2,
   "metadata": {
    "pycharm": {
     "name": "#%%\n"
    }
   },
   "outputs": [
    {
     "data": {
      "text/plain": "      frame_id  endpoint_error        model sequence_name  inference_time\n0            0        1.169755  fe_flownet2       alley_1       73.594238\n1            1        1.254105  fe_flownet2       alley_1       73.805634\n2            2        1.343256  fe_flownet2       alley_1       73.583679\n3            3        1.404207  fe_flownet2       alley_1       60.299393\n4            4        1.451205  fe_flownet2       alley_1       48.783745\n...        ...             ...          ...           ...             ...\n5200        44       30.991070    fe_spynet      temple_3       39.420895\n5201        45       27.548714    fe_spynet      temple_3       40.406273\n5202        46       25.589386    fe_spynet      temple_3       40.929535\n5203        47       24.134176    fe_spynet      temple_3       41.665504\n5204        48       22.456146    fe_spynet      temple_3       41.643646\n\n[5205 rows x 5 columns]",
      "text/html": "<div>\n<style scoped>\n    .dataframe tbody tr th:only-of-type {\n        vertical-align: middle;\n    }\n\n    .dataframe tbody tr th {\n        vertical-align: top;\n    }\n\n    .dataframe thead th {\n        text-align: right;\n    }\n</style>\n<table border=\"1\" class=\"dataframe\">\n  <thead>\n    <tr style=\"text-align: right;\">\n      <th></th>\n      <th>frame_id</th>\n      <th>endpoint_error</th>\n      <th>model</th>\n      <th>sequence_name</th>\n      <th>inference_time</th>\n    </tr>\n  </thead>\n  <tbody>\n    <tr>\n      <th>0</th>\n      <td>0</td>\n      <td>1.169755</td>\n      <td>fe_flownet2</td>\n      <td>alley_1</td>\n      <td>73.594238</td>\n    </tr>\n    <tr>\n      <th>1</th>\n      <td>1</td>\n      <td>1.254105</td>\n      <td>fe_flownet2</td>\n      <td>alley_1</td>\n      <td>73.805634</td>\n    </tr>\n    <tr>\n      <th>2</th>\n      <td>2</td>\n      <td>1.343256</td>\n      <td>fe_flownet2</td>\n      <td>alley_1</td>\n      <td>73.583679</td>\n    </tr>\n    <tr>\n      <th>3</th>\n      <td>3</td>\n      <td>1.404207</td>\n      <td>fe_flownet2</td>\n      <td>alley_1</td>\n      <td>60.299393</td>\n    </tr>\n    <tr>\n      <th>4</th>\n      <td>4</td>\n      <td>1.451205</td>\n      <td>fe_flownet2</td>\n      <td>alley_1</td>\n      <td>48.783745</td>\n    </tr>\n    <tr>\n      <th>...</th>\n      <td>...</td>\n      <td>...</td>\n      <td>...</td>\n      <td>...</td>\n      <td>...</td>\n    </tr>\n    <tr>\n      <th>5200</th>\n      <td>44</td>\n      <td>30.991070</td>\n      <td>fe_spynet</td>\n      <td>temple_3</td>\n      <td>39.420895</td>\n    </tr>\n    <tr>\n      <th>5201</th>\n      <td>45</td>\n      <td>27.548714</td>\n      <td>fe_spynet</td>\n      <td>temple_3</td>\n      <td>40.406273</td>\n    </tr>\n    <tr>\n      <th>5202</th>\n      <td>46</td>\n      <td>25.589386</td>\n      <td>fe_spynet</td>\n      <td>temple_3</td>\n      <td>40.929535</td>\n    </tr>\n    <tr>\n      <th>5203</th>\n      <td>47</td>\n      <td>24.134176</td>\n      <td>fe_spynet</td>\n      <td>temple_3</td>\n      <td>41.665504</td>\n    </tr>\n    <tr>\n      <th>5204</th>\n      <td>48</td>\n      <td>22.456146</td>\n      <td>fe_spynet</td>\n      <td>temple_3</td>\n      <td>41.643646</td>\n    </tr>\n  </tbody>\n</table>\n<p>5205 rows × 5 columns</p>\n</div>"
     },
     "execution_count": 2,
     "metadata": {},
     "output_type": "execute_result"
    }
   ],
   "source": [
    "data_dir = '../data'\n",
    "results_dirs = get_paths('../results/flow_estimation/*')\n",
    "\n",
    "times_dfs = []\n",
    "for results_dir in results_dirs:\n",
    "    for path in get_paths(f'{results_dir}/Benchmark/*/inference_times.csv'):\n",
    "        times_df = load_dataframe(path)\n",
    "        times_df['model'] = basename(results_dir)\n",
    "        times_df['sequence_name'] = basename(dirname(path))\n",
    "        times_dfs.append(times_df)\n",
    "times_dfs = pd.concat(times_dfs)\n",
    "\n",
    "results_dfs = []\n",
    "for results_dir in results_dirs:\n",
    "    for path in get_paths(f'{results_dir}/Evaluation/*/results.csv'):\n",
    "        results_df = load_dataframe(path)\n",
    "        results_df['model'] = basename(results_dir)\n",
    "        results_df['sequence_name'] = basename(dirname(path))\n",
    "        results_dfs.append(results_df)\n",
    "results_df = pd.concat(results_dfs)\n",
    "\n",
    "df = pd.merge(results_df, times_dfs, on=['model', 'sequence_name', 'frame_id'])\n",
    "df"
   ]
  },
  {
   "cell_type": "code",
   "execution_count": 3,
   "metadata": {
    "pycharm": {
     "name": "#%%\n"
    }
   },
   "outputs": [
    {
     "data": {
      "text/plain": "                inference_time  endpoint_error\nmodel                                         \nfe_flownet2          49.944323        7.152938\nfe_liteflownet       35.568311        7.490353\nfe_maskflownet       33.515208        6.938796\nfe_pwcnet            25.308693        6.956349\nfe_spynet            38.432607        7.548716",
      "text/html": "<div>\n<style scoped>\n    .dataframe tbody tr th:only-of-type {\n        vertical-align: middle;\n    }\n\n    .dataframe tbody tr th {\n        vertical-align: top;\n    }\n\n    .dataframe thead th {\n        text-align: right;\n    }\n</style>\n<table border=\"1\" class=\"dataframe\">\n  <thead>\n    <tr style=\"text-align: right;\">\n      <th></th>\n      <th>inference_time</th>\n      <th>endpoint_error</th>\n    </tr>\n    <tr>\n      <th>model</th>\n      <th></th>\n      <th></th>\n    </tr>\n  </thead>\n  <tbody>\n    <tr>\n      <th>fe_flownet2</th>\n      <td>49.944323</td>\n      <td>7.152938</td>\n    </tr>\n    <tr>\n      <th>fe_liteflownet</th>\n      <td>35.568311</td>\n      <td>7.490353</td>\n    </tr>\n    <tr>\n      <th>fe_maskflownet</th>\n      <td>33.515208</td>\n      <td>6.938796</td>\n    </tr>\n    <tr>\n      <th>fe_pwcnet</th>\n      <td>25.308693</td>\n      <td>6.956349</td>\n    </tr>\n    <tr>\n      <th>fe_spynet</th>\n      <td>38.432607</td>\n      <td>7.548716</td>\n    </tr>\n  </tbody>\n</table>\n</div>"
     },
     "execution_count": 3,
     "metadata": {},
     "output_type": "execute_result"
    }
   ],
   "source": [
    "metrics = pd.DataFrame()\n",
    "metrics['model'] = df['model']\n",
    "metrics['sequence_name'] = df['sequence_name']\n",
    "metrics['inference_time'] = df['inference_time']\n",
    "metrics['endpoint_error'] = df['endpoint_error']\n",
    "metrics.groupby('model').mean()\n",
    "\n"
   ]
  }
 ],
 "metadata": {
  "kernelspec": {
   "display_name": "Python 3",
   "language": "python",
   "name": "python3"
  },
  "language_info": {
   "codemirror_mode": {
    "name": "ipython",
    "version": 3
   },
   "file_extension": ".py",
   "mimetype": "text/x-python",
   "name": "python",
   "nbconvert_exporter": "python",
   "pygments_lexer": "ipython3",
   "version": "3.8.2"
  }
 },
 "nbformat": 4,
 "nbformat_minor": 1
}