{
 "cells": [
  {
   "cell_type": "code",
   "execution_count": 1,
   "metadata": {
    "collapsed": true
   },
   "outputs": [],
   "source": [
    "from os.path import dirname, basename\n",
    "\n",
    "import pandas as pd\n",
    "\n",
    "from inpainting.load import load_dataframe\n",
    "from inpainting.utils import get_paths"
   ]
  },
  {
   "cell_type": "code",
   "execution_count": 2,
   "metadata": {
    "pycharm": {
     "name": "#%%\n"
    }
   },
   "outputs": [
    {
     "data": {
      "text/plain": "      frame_id  endpoint_error        model sequence_name  inference_time\n0            0        0.185047  fe_flownet2       alley_1       73.727806\n1            1        0.201432  fe_flownet2       alley_1       73.843811\n2            2        0.228892  fe_flownet2       alley_1       73.890717\n3            3        0.238290  fe_flownet2       alley_1       71.202850\n4            4        0.265833  fe_flownet2       alley_1       50.145184\n...        ...             ...          ...           ...             ...\n5200        44        2.915465    fe_spynet      temple_3       43.336990\n5201        45        3.855982    fe_spynet      temple_3       43.368320\n5202        46        4.349742    fe_spynet      temple_3       43.835392\n5203        47        4.230858    fe_spynet      temple_3       43.802177\n5204        48        3.855341    fe_spynet      temple_3       43.895008\n\n[5205 rows x 5 columns]",
      "text/html": "<div>\n<style scoped>\n    .dataframe tbody tr th:only-of-type {\n        vertical-align: middle;\n    }\n\n    .dataframe tbody tr th {\n        vertical-align: top;\n    }\n\n    .dataframe thead th {\n        text-align: right;\n    }\n</style>\n<table border=\"1\" class=\"dataframe\">\n  <thead>\n    <tr style=\"text-align: right;\">\n      <th></th>\n      <th>frame_id</th>\n      <th>endpoint_error</th>\n      <th>model</th>\n      <th>sequence_name</th>\n      <th>inference_time</th>\n    </tr>\n  </thead>\n  <tbody>\n    <tr>\n      <th>0</th>\n      <td>0</td>\n      <td>0.185047</td>\n      <td>fe_flownet2</td>\n      <td>alley_1</td>\n      <td>73.727806</td>\n    </tr>\n    <tr>\n      <th>1</th>\n      <td>1</td>\n      <td>0.201432</td>\n      <td>fe_flownet2</td>\n      <td>alley_1</td>\n      <td>73.843811</td>\n    </tr>\n    <tr>\n      <th>2</th>\n      <td>2</td>\n      <td>0.228892</td>\n      <td>fe_flownet2</td>\n      <td>alley_1</td>\n      <td>73.890717</td>\n    </tr>\n    <tr>\n      <th>3</th>\n      <td>3</td>\n      <td>0.238290</td>\n      <td>fe_flownet2</td>\n      <td>alley_1</td>\n      <td>71.202850</td>\n    </tr>\n    <tr>\n      <th>4</th>\n      <td>4</td>\n      <td>0.265833</td>\n      <td>fe_flownet2</td>\n      <td>alley_1</td>\n      <td>50.145184</td>\n    </tr>\n    <tr>\n      <th>...</th>\n      <td>...</td>\n      <td>...</td>\n      <td>...</td>\n      <td>...</td>\n      <td>...</td>\n    </tr>\n    <tr>\n      <th>5200</th>\n      <td>44</td>\n      <td>2.915465</td>\n      <td>fe_spynet</td>\n      <td>temple_3</td>\n      <td>43.336990</td>\n    </tr>\n    <tr>\n      <th>5201</th>\n      <td>45</td>\n      <td>3.855982</td>\n      <td>fe_spynet</td>\n      <td>temple_3</td>\n      <td>43.368320</td>\n    </tr>\n    <tr>\n      <th>5202</th>\n      <td>46</td>\n      <td>4.349742</td>\n      <td>fe_spynet</td>\n      <td>temple_3</td>\n      <td>43.835392</td>\n    </tr>\n    <tr>\n      <th>5203</th>\n      <td>47</td>\n      <td>4.230858</td>\n      <td>fe_spynet</td>\n      <td>temple_3</td>\n      <td>43.802177</td>\n    </tr>\n    <tr>\n      <th>5204</th>\n      <td>48</td>\n      <td>3.855341</td>\n      <td>fe_spynet</td>\n      <td>temple_3</td>\n      <td>43.895008</td>\n    </tr>\n  </tbody>\n</table>\n<p>5205 rows × 5 columns</p>\n</div>"
     },
     "execution_count": 2,
     "metadata": {},
     "output_type": "execute_result"
    }
   ],
   "source": [
    "dataset = 'MPI-Sintel-complete'\n",
    "results_dirs = get_paths(f'../results/fe/{dataset}/*')\n",
    "\n",
    "times_dfs = []\n",
    "for results_dir in results_dirs:\n",
    "    for path in get_paths(f'{results_dir}/Benchmark/*/inference_times.csv'):\n",
    "        times_df = load_dataframe(path)\n",
    "        times_df['model'] = basename(results_dir)\n",
    "        times_df['sequence_name'] = basename(dirname(path))\n",
    "        times_dfs.append(times_df)\n",
    "times_dfs = pd.concat(times_dfs)\n",
    "\n",
    "results_dfs = []\n",
    "for results_dir in results_dirs:\n",
    "    for path in get_paths(f'{results_dir}/Evaluation/*/results.csv'):\n",
    "        results_df = load_dataframe(path)\n",
    "        results_df['model'] = basename(results_dir)\n",
    "        results_df['sequence_name'] = basename(dirname(path))\n",
    "        results_dfs.append(results_df)\n",
    "results_df = pd.concat(results_dfs)\n",
    "\n",
    "df = pd.merge(results_df, times_dfs, on=['model', 'sequence_name', 'frame_id'])\n",
    "df"
   ]
  },
  {
   "cell_type": "code",
   "execution_count": 3,
   "metadata": {
    "pycharm": {
     "name": "#%%\n"
    }
   },
   "outputs": [
    {
     "data": {
      "text/plain": "                inference_time  endpoint_error\nmodel                                         \nfe_flownet2          56.302743        2.321393\nfe_liteflownet       38.851068        2.561629\nfe_maskflownet       34.765334        2.030583\nfe_pwcnet            26.852043        2.061985\nfe_spynet            42.792544        2.713243",
      "text/html": "<div>\n<style scoped>\n    .dataframe tbody tr th:only-of-type {\n        vertical-align: middle;\n    }\n\n    .dataframe tbody tr th {\n        vertical-align: top;\n    }\n\n    .dataframe thead th {\n        text-align: right;\n    }\n</style>\n<table border=\"1\" class=\"dataframe\">\n  <thead>\n    <tr style=\"text-align: right;\">\n      <th></th>\n      <th>inference_time</th>\n      <th>endpoint_error</th>\n    </tr>\n    <tr>\n      <th>model</th>\n      <th></th>\n      <th></th>\n    </tr>\n  </thead>\n  <tbody>\n    <tr>\n      <th>fe_flownet2</th>\n      <td>56.302743</td>\n      <td>2.321393</td>\n    </tr>\n    <tr>\n      <th>fe_liteflownet</th>\n      <td>38.851068</td>\n      <td>2.561629</td>\n    </tr>\n    <tr>\n      <th>fe_maskflownet</th>\n      <td>34.765334</td>\n      <td>2.030583</td>\n    </tr>\n    <tr>\n      <th>fe_pwcnet</th>\n      <td>26.852043</td>\n      <td>2.061985</td>\n    </tr>\n    <tr>\n      <th>fe_spynet</th>\n      <td>42.792544</td>\n      <td>2.713243</td>\n    </tr>\n  </tbody>\n</table>\n</div>"
     },
     "execution_count": 3,
     "metadata": {},
     "output_type": "execute_result"
    }
   ],
   "source": [
    "metrics = pd.DataFrame()\n",
    "metrics['model'] = df['model']\n",
    "metrics['sequence_name'] = df['sequence_name']\n",
    "metrics['inference_time'] = df['inference_time']\n",
    "metrics['endpoint_error'] = df['endpoint_error']\n",
    "metrics.groupby('model').mean()\n",
    "\n"
   ]
  }
 ],
 "metadata": {
  "kernelspec": {
   "display_name": "Python 3",
   "language": "python",
   "name": "python3"
  },
  "language_info": {
   "codemirror_mode": {
    "name": "ipython",
    "version": 3
   },
   "file_extension": ".py",
   "mimetype": "text/x-python",
   "name": "python",
   "nbconvert_exporter": "python",
   "pygments_lexer": "ipython3",
   "version": "3.8.2"
  }
 },
 "nbformat": 4,
 "nbformat_minor": 1
}