{
 "cells": [
  {
   "cell_type": "code",
   "execution_count": 1,
   "metadata": {
    "collapsed": true
   },
   "outputs": [],
   "source": [
    "import time\n",
    "\n",
    "import torch\n",
    "import torchvision\n",
    "from numpy import mean\n",
    "from itertools import product\n",
    "from torchvision.transforms import transforms\n",
    "from copy import deepcopy\n"
   ]
  },
  {
   "cell_type": "code",
   "execution_count": 2,
   "outputs": [],
   "source": [
    "sizes = [\n",
    "    512,\n",
    "    1024,\n",
    "    2048\n",
    "]"
   ],
   "metadata": {
    "collapsed": false,
    "pycharm": {
     "name": "#%%\n"
    }
   }
  },
  {
   "cell_type": "code",
   "execution_count": 3,
   "outputs": [],
   "source": [
    "networks = [\n",
    "    ('vgg16', torch.nn.Sequential(*list(torchvision.models.vgg16_bn(pretrained=True).children())[:-2])),\n",
    "    ('resnet50', torch.nn.Sequential(*list(torchvision.models.resnet50(pretrained=True).children())[:-2])),\n",
    "    ('mobilenet_v2', torch.nn.Sequential(*list(torchvision.models.mobilenet_v2(pretrained=True).children())[:-1]))\n",
    "]"
   ],
   "metadata": {
    "collapsed": false,
    "pycharm": {
     "name": "#%%\n"
    }
   }
  },
  {
   "cell_type": "code",
   "execution_count": 4,
   "outputs": [],
   "source": [
    "tensor_core_usage = [\n",
    "    False,\n",
    "    True\n",
    "]"
   ],
   "metadata": {
    "collapsed": false,
    "pycharm": {
     "name": "#%%\n"
    }
   }
  },
  {
   "cell_type": "code",
   "execution_count": 5,
   "outputs": [
    {
     "name": "stdout",
     "output_type": "stream",
     "text": [
      "Files already downloaded and verified\n",
      "512 vgg16 False 31.78 FPS\n",
      "Files already downloaded and verified\n",
      "512 vgg16 True 72.78 FPS\n",
      "Files already downloaded and verified\n",
      "512 resnet50 False 57.06 FPS\n",
      "Files already downloaded and verified\n",
      "512 resnet50 True 111.61 FPS\n",
      "Files already downloaded and verified\n",
      "512 mobilenet_v2 False 121.92 FPS\n",
      "Files already downloaded and verified\n",
      "512 mobilenet_v2 True 126.16 FPS\n",
      "Files already downloaded and verified\n",
      "1024 vgg16 False 7.80 FPS\n",
      "Files already downloaded and verified\n",
      "1024 vgg16 True 18.69 FPS\n",
      "Files already downloaded and verified\n",
      "1024 resnet50 False 16.16 FPS\n",
      "Files already downloaded and verified\n",
      "1024 resnet50 True 86.26 FPS\n",
      "Files already downloaded and verified\n",
      "1024 mobilenet_v2 False 72.45 FPS\n",
      "Files already downloaded and verified\n",
      "1024 mobilenet_v2 True 102.41 FPS\n",
      "Files already downloaded and verified\n",
      "2048 vgg16 False 1.89 FPS\n",
      "Files already downloaded and verified\n",
      "2048 vgg16 True 4.58 FPS\n",
      "Files already downloaded and verified\n",
      "2048 resnet50 False 4.16 FPS\n",
      "Files already downloaded and verified\n",
      "2048 resnet50 True 53.14 FPS\n",
      "Files already downloaded and verified\n",
      "2048 mobilenet_v2 False 24.52 FPS\n",
      "Files already downloaded and verified\n",
      "2048 mobilenet_v2 True 58.14 FPS\n"
     ]
    }
   ],
   "source": [
    "for size, network_tuple, use_tensor_cores in product(sizes, networks, tensor_core_usage):\n",
    "    transform = transforms.Compose([\n",
    "        transforms.Resize(size),\n",
    "        transforms.ToTensor(),\n",
    "        transforms.Normalize(mean=[0.485, 0.456, 0.406], std=[0.229, 0.224, 0.225])\n",
    "    ])\n",
    "\n",
    "    dataset = torchvision.datasets.CelebA(root='./data', download=True,\n",
    "                                          transform=transform)\n",
    "    loader = torch.utils.data.DataLoader(dataset, batch_size=1,\n",
    "                                         shuffle=False, num_workers=1)\n",
    "    network_name = network_tuple[0]\n",
    "    network = deepcopy(network_tuple[1]).eval()\n",
    "    if use_tensor_cores:\n",
    "        network = network.half()\n",
    "    else:\n",
    "        network = network.float()\n",
    "    network = network.cuda()\n",
    "\n",
    "    iterator = iter(loader)\n",
    "    with torch.no_grad():\n",
    "        for i in range(10):\n",
    "            img = next(iterator)[0]\n",
    "            if use_tensor_cores:\n",
    "                img = img.half()\n",
    "            network(img.cuda())\n",
    "\n",
    "        times = []\n",
    "        for i in range(100):\n",
    "            img = next(iterator)[0]\n",
    "            if use_tensor_cores:\n",
    "                img = img.half()\n",
    "            start = time.perf_counter()\n",
    "            network(img.cuda())\n",
    "            end = time.perf_counter()\n",
    "            times.append(end - start)\n",
    "        print(f'{size} {network_name} {use_tensor_cores} {1 / (mean(times)):.2f} FPS')\n",
    "\n",
    "    del network\n",
    "    torch.cuda.empty_cache()"
   ],
   "metadata": {
    "collapsed": false,
    "pycharm": {
     "name": "#%%\n"
    }
   }
  }
 ],
 "metadata": {
  "kernelspec": {
   "display_name": "Python 3",
   "language": "python",
   "name": "python3"
  },
  "language_info": {
   "codemirror_mode": {
    "name": "ipython",
    "version": 2
   },
   "file_extension": ".py",
   "mimetype": "text/x-python",
   "name": "python",
   "nbconvert_exporter": "python",
   "pygments_lexer": "ipython2",
   "version": "2.7.6"
  }
 },
 "nbformat": 4,
 "nbformat_minor": 0
}