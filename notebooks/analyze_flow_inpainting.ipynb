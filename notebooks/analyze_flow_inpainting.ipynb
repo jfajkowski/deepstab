{
 "cells": [
  {
   "cell_type": "code",
   "execution_count": 1,
   "metadata": {
    "collapsed": true
   },
   "outputs": [],
   "source": [
    "import glob\n",
    "from os.path import dirname, basename\n",
    "import pandas as pd\n",
    "from inpainting.load import load_dataframe"
   ]
  },
  {
   "cell_type": "code",
   "execution_count": 2,
   "metadata": {
    "pycharm": {
     "name": "#%%\n"
    }
   },
   "outputs": [
    {
     "data": {
      "text/plain": "      frame_id  endpoint_error          model         sequence_name  \\\n0            0        0.040387  fi_kernelfill  alley_1_crossing_003   \n1            1        0.027414  fi_kernelfill  alley_1_crossing_003   \n2            2        0.022847  fi_kernelfill  alley_1_crossing_003   \n3            3        0.019659  fi_kernelfill  alley_1_crossing_003   \n4            4        0.013256  fi_kernelfill  alley_1_crossing_003   \n...        ...             ...            ...                   ...   \n8343        44        0.053248  fi_regionfill    temple_3_stunt_002   \n8344        45        0.001880  fi_regionfill    temple_3_stunt_002   \n8345        46        0.000051  fi_regionfill    temple_3_stunt_002   \n8346        47        0.000041  fi_regionfill    temple_3_stunt_002   \n8347        48        0.000036  fi_regionfill    temple_3_stunt_002   \n\n      inference_time  \n0         436.279602  \n1         381.704102  \n2         371.766296  \n3         370.547028  \n4         362.703735  \n...              ...  \n8343       38.103199  \n8344       35.268673  \n8345       36.534367  \n8346       35.292290  \n8347       34.447327  \n\n[8348 rows x 5 columns]",
      "text/html": "<div>\n<style scoped>\n    .dataframe tbody tr th:only-of-type {\n        vertical-align: middle;\n    }\n\n    .dataframe tbody tr th {\n        vertical-align: top;\n    }\n\n    .dataframe thead th {\n        text-align: right;\n    }\n</style>\n<table border=\"1\" class=\"dataframe\">\n  <thead>\n    <tr style=\"text-align: right;\">\n      <th></th>\n      <th>frame_id</th>\n      <th>endpoint_error</th>\n      <th>model</th>\n      <th>sequence_name</th>\n      <th>inference_time</th>\n    </tr>\n  </thead>\n  <tbody>\n    <tr>\n      <th>0</th>\n      <td>0</td>\n      <td>0.040387</td>\n      <td>fi_kernelfill</td>\n      <td>alley_1_crossing_003</td>\n      <td>436.279602</td>\n    </tr>\n    <tr>\n      <th>1</th>\n      <td>1</td>\n      <td>0.027414</td>\n      <td>fi_kernelfill</td>\n      <td>alley_1_crossing_003</td>\n      <td>381.704102</td>\n    </tr>\n    <tr>\n      <th>2</th>\n      <td>2</td>\n      <td>0.022847</td>\n      <td>fi_kernelfill</td>\n      <td>alley_1_crossing_003</td>\n      <td>371.766296</td>\n    </tr>\n    <tr>\n      <th>3</th>\n      <td>3</td>\n      <td>0.019659</td>\n      <td>fi_kernelfill</td>\n      <td>alley_1_crossing_003</td>\n      <td>370.547028</td>\n    </tr>\n    <tr>\n      <th>4</th>\n      <td>4</td>\n      <td>0.013256</td>\n      <td>fi_kernelfill</td>\n      <td>alley_1_crossing_003</td>\n      <td>362.703735</td>\n    </tr>\n    <tr>\n      <th>...</th>\n      <td>...</td>\n      <td>...</td>\n      <td>...</td>\n      <td>...</td>\n      <td>...</td>\n    </tr>\n    <tr>\n      <th>8343</th>\n      <td>44</td>\n      <td>0.053248</td>\n      <td>fi_regionfill</td>\n      <td>temple_3_stunt_002</td>\n      <td>38.103199</td>\n    </tr>\n    <tr>\n      <th>8344</th>\n      <td>45</td>\n      <td>0.001880</td>\n      <td>fi_regionfill</td>\n      <td>temple_3_stunt_002</td>\n      <td>35.268673</td>\n    </tr>\n    <tr>\n      <th>8345</th>\n      <td>46</td>\n      <td>0.000051</td>\n      <td>fi_regionfill</td>\n      <td>temple_3_stunt_002</td>\n      <td>36.534367</td>\n    </tr>\n    <tr>\n      <th>8346</th>\n      <td>47</td>\n      <td>0.000041</td>\n      <td>fi_regionfill</td>\n      <td>temple_3_stunt_002</td>\n      <td>35.292290</td>\n    </tr>\n    <tr>\n      <th>8347</th>\n      <td>48</td>\n      <td>0.000036</td>\n      <td>fi_regionfill</td>\n      <td>temple_3_stunt_002</td>\n      <td>34.447327</td>\n    </tr>\n  </tbody>\n</table>\n<p>8348 rows × 5 columns</p>\n</div>"
     },
     "execution_count": 2,
     "metadata": {},
     "output_type": "execute_result"
    }
   ],
   "source": [
    "data_dir = '../data'\n",
    "results_dirs = glob.glob('../results/flow_inpainting/*')\n",
    "\n",
    "times_dfs = []\n",
    "for results_dir in results_dirs:\n",
    "    for path in glob.glob(f'{results_dir}/Benchmark/*/inference_times.csv'):\n",
    "        times_df = load_dataframe(path)\n",
    "        times_df['model'] = basename(results_dir)\n",
    "        times_df['sequence_name'] = basename(dirname(path))\n",
    "        times_dfs.append(times_df)\n",
    "times_dfs = pd.concat(times_dfs)\n",
    "\n",
    "results_dfs = []\n",
    "for results_dir in results_dirs:\n",
    "    for path in glob.glob(f'{results_dir}/Evaluation/*/results.csv'):\n",
    "        results_df = load_dataframe(path)\n",
    "        results_df['model'] = basename(results_dir)\n",
    "        results_df['sequence_name'] = basename(dirname(path))\n",
    "        results_dfs.append(results_df)\n",
    "results_df = pd.concat(results_dfs)\n",
    "\n",
    "df = pd.merge(results_df, times_dfs, on=['model', 'sequence_name', 'frame_id'])\n",
    "df"
   ]
  },
  {
   "cell_type": "code",
   "execution_count": 3,
   "metadata": {
    "pycharm": {
     "name": "#%%\n"
    }
   },
   "outputs": [
    {
     "data": {
      "text/plain": "               inference_time  endpoint_error\nmodel                                        \nfi_kernelfill      570.998528        0.247327\nfi_regionfill       95.437809        0.210664",
      "text/html": "<div>\n<style scoped>\n    .dataframe tbody tr th:only-of-type {\n        vertical-align: middle;\n    }\n\n    .dataframe tbody tr th {\n        vertical-align: top;\n    }\n\n    .dataframe thead th {\n        text-align: right;\n    }\n</style>\n<table border=\"1\" class=\"dataframe\">\n  <thead>\n    <tr style=\"text-align: right;\">\n      <th></th>\n      <th>inference_time</th>\n      <th>endpoint_error</th>\n    </tr>\n    <tr>\n      <th>model</th>\n      <th></th>\n      <th></th>\n    </tr>\n  </thead>\n  <tbody>\n    <tr>\n      <th>fi_kernelfill</th>\n      <td>570.998528</td>\n      <td>0.247327</td>\n    </tr>\n    <tr>\n      <th>fi_regionfill</th>\n      <td>95.437809</td>\n      <td>0.210664</td>\n    </tr>\n  </tbody>\n</table>\n</div>"
     },
     "execution_count": 3,
     "metadata": {},
     "output_type": "execute_result"
    }
   ],
   "source": [
    "metrics = pd.DataFrame()\n",
    "metrics['model'] = df['model']\n",
    "metrics['sequence_name'] = df['sequence_name']\n",
    "metrics['inference_time'] = df['inference_time']\n",
    "metrics['endpoint_error'] = df['endpoint_error']\n",
    "metrics.groupby('model').mean()\n",
    "\n"
   ]
  }
 ],
 "metadata": {
  "kernelspec": {
   "display_name": "Python 3",
   "language": "python",
   "name": "python3"
  },
  "language_info": {
   "codemirror_mode": {
    "name": "ipython",
    "version": 3
   },
   "file_extension": ".py",
   "mimetype": "text/x-python",
   "name": "python",
   "nbconvert_exporter": "python",
   "pygments_lexer": "ipython3",
   "version": "3.8.2"
  }
 },
 "nbformat": 4,
 "nbformat_minor": 1
}