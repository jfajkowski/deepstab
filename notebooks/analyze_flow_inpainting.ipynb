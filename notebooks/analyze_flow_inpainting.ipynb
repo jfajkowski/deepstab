{
 "cells": [
  {
   "cell_type": "code",
   "execution_count": 1,
   "metadata": {
    "collapsed": true
   },
   "outputs": [],
   "source": [
    "from os.path import dirname, basename\n",
    "\n",
    "import pandas as pd\n",
    "\n",
    "from inpainting.load import load_dataframe\n",
    "from inpainting.utils import get_paths"
   ]
  },
  {
   "cell_type": "code",
   "execution_count": 2,
   "metadata": {
    "pycharm": {
     "name": "#%%\n"
    }
   },
   "outputs": [
    {
     "data": {
      "text/plain": "      frame_id  endpoint_error          model               sequence_name  \\\n0            0        0.000196  fi_kernelfill  breakdance_paragliding_002   \n1            1        0.000194  fi_kernelfill  breakdance_paragliding_002   \n2            2        0.000190  fi_kernelfill  breakdance_paragliding_002   \n3            3        0.000175  fi_kernelfill  breakdance_paragliding_002   \n4            4        0.000172  fi_kernelfill  breakdance_paragliding_002   \n...        ...             ...            ...                         ...   \n1387        42        0.000129  fi_regionfill       tennis_soccerball_001   \n1388        43        0.000184  fi_regionfill       tennis_soccerball_001   \n1389        44        0.000098  fi_regionfill       tennis_soccerball_001   \n1390        45        0.000223  fi_regionfill       tennis_soccerball_001   \n1391        46        0.000234  fi_regionfill       tennis_soccerball_001   \n\n      inference_time  \n0         239.788803  \n1         205.337021  \n2         194.891739  \n3         187.498428  \n4         199.835556  \n...              ...  \n1387       49.897377  \n1388       52.681568  \n1389       48.616127  \n1390       43.336800  \n1391       43.209152  \n\n[1392 rows x 5 columns]",
      "text/html": "<div>\n<style scoped>\n    .dataframe tbody tr th:only-of-type {\n        vertical-align: middle;\n    }\n\n    .dataframe tbody tr th {\n        vertical-align: top;\n    }\n\n    .dataframe thead th {\n        text-align: right;\n    }\n</style>\n<table border=\"1\" class=\"dataframe\">\n  <thead>\n    <tr style=\"text-align: right;\">\n      <th></th>\n      <th>frame_id</th>\n      <th>endpoint_error</th>\n      <th>model</th>\n      <th>sequence_name</th>\n      <th>inference_time</th>\n    </tr>\n  </thead>\n  <tbody>\n    <tr>\n      <th>0</th>\n      <td>0</td>\n      <td>0.000196</td>\n      <td>fi_kernelfill</td>\n      <td>breakdance_paragliding_002</td>\n      <td>239.788803</td>\n    </tr>\n    <tr>\n      <th>1</th>\n      <td>1</td>\n      <td>0.000194</td>\n      <td>fi_kernelfill</td>\n      <td>breakdance_paragliding_002</td>\n      <td>205.337021</td>\n    </tr>\n    <tr>\n      <th>2</th>\n      <td>2</td>\n      <td>0.000190</td>\n      <td>fi_kernelfill</td>\n      <td>breakdance_paragliding_002</td>\n      <td>194.891739</td>\n    </tr>\n    <tr>\n      <th>3</th>\n      <td>3</td>\n      <td>0.000175</td>\n      <td>fi_kernelfill</td>\n      <td>breakdance_paragliding_002</td>\n      <td>187.498428</td>\n    </tr>\n    <tr>\n      <th>4</th>\n      <td>4</td>\n      <td>0.000172</td>\n      <td>fi_kernelfill</td>\n      <td>breakdance_paragliding_002</td>\n      <td>199.835556</td>\n    </tr>\n    <tr>\n      <th>...</th>\n      <td>...</td>\n      <td>...</td>\n      <td>...</td>\n      <td>...</td>\n      <td>...</td>\n    </tr>\n    <tr>\n      <th>1387</th>\n      <td>42</td>\n      <td>0.000129</td>\n      <td>fi_regionfill</td>\n      <td>tennis_soccerball_001</td>\n      <td>49.897377</td>\n    </tr>\n    <tr>\n      <th>1388</th>\n      <td>43</td>\n      <td>0.000184</td>\n      <td>fi_regionfill</td>\n      <td>tennis_soccerball_001</td>\n      <td>52.681568</td>\n    </tr>\n    <tr>\n      <th>1389</th>\n      <td>44</td>\n      <td>0.000098</td>\n      <td>fi_regionfill</td>\n      <td>tennis_soccerball_001</td>\n      <td>48.616127</td>\n    </tr>\n    <tr>\n      <th>1390</th>\n      <td>45</td>\n      <td>0.000223</td>\n      <td>fi_regionfill</td>\n      <td>tennis_soccerball_001</td>\n      <td>43.336800</td>\n    </tr>\n    <tr>\n      <th>1391</th>\n      <td>46</td>\n      <td>0.000234</td>\n      <td>fi_regionfill</td>\n      <td>tennis_soccerball_001</td>\n      <td>43.209152</td>\n    </tr>\n  </tbody>\n</table>\n<p>1392 rows × 5 columns</p>\n</div>"
     },
     "execution_count": 2,
     "metadata": {},
     "output_type": "execute_result"
    }
   ],
   "source": [
    "dataset = 'demo'\n",
    "results_dirs = get_paths(f'../results/fi/{dataset}/*')\n",
    "\n",
    "times_dfs = []\n",
    "for results_dir in results_dirs:\n",
    "    for path in get_paths(f'{results_dir}/Benchmark/*/inference_times.csv'):\n",
    "        times_df = load_dataframe(path)\n",
    "        times_df['model'] = basename(results_dir)\n",
    "        times_df['sequence_name'] = basename(dirname(path))\n",
    "        times_dfs.append(times_df)\n",
    "times_dfs = pd.concat(times_dfs)\n",
    "\n",
    "results_dfs = []\n",
    "for results_dir in results_dirs:\n",
    "    for path in get_paths(f'{results_dir}/Evaluation/*/results.csv'):\n",
    "        results_df = load_dataframe(path)\n",
    "        results_df['model'] = basename(results_dir)\n",
    "        results_df['sequence_name'] = basename(dirname(path))\n",
    "        results_dfs.append(results_df)\n",
    "results_df = pd.concat(results_dfs)\n",
    "\n",
    "df = pd.merge(results_df, times_dfs, on=['model', 'sequence_name', 'frame_id'])\n",
    "df"
   ]
  },
  {
   "cell_type": "code",
   "execution_count": 3,
   "metadata": {
    "pycharm": {
     "name": "#%%\n"
    }
   },
   "outputs": [
    {
     "data": {
      "text/plain": "               inference_time  endpoint_error\nmodel                                        \nfi_kernelfill      288.167330        0.025923\nfi_regionfill       70.209812        0.022468",
      "text/html": "<div>\n<style scoped>\n    .dataframe tbody tr th:only-of-type {\n        vertical-align: middle;\n    }\n\n    .dataframe tbody tr th {\n        vertical-align: top;\n    }\n\n    .dataframe thead th {\n        text-align: right;\n    }\n</style>\n<table border=\"1\" class=\"dataframe\">\n  <thead>\n    <tr style=\"text-align: right;\">\n      <th></th>\n      <th>inference_time</th>\n      <th>endpoint_error</th>\n    </tr>\n    <tr>\n      <th>model</th>\n      <th></th>\n      <th></th>\n    </tr>\n  </thead>\n  <tbody>\n    <tr>\n      <th>fi_kernelfill</th>\n      <td>288.167330</td>\n      <td>0.025923</td>\n    </tr>\n    <tr>\n      <th>fi_regionfill</th>\n      <td>70.209812</td>\n      <td>0.022468</td>\n    </tr>\n  </tbody>\n</table>\n</div>"
     },
     "execution_count": 3,
     "metadata": {},
     "output_type": "execute_result"
    }
   ],
   "source": [
    "metrics = pd.DataFrame()\n",
    "metrics['model'] = df['model']\n",
    "metrics['sequence_name'] = df['sequence_name']\n",
    "metrics['inference_time'] = df['inference_time']\n",
    "metrics['endpoint_error'] = df['endpoint_error']\n",
    "metrics.groupby('model').mean()\n"
   ]
  }
 ],
 "metadata": {
  "kernelspec": {
   "display_name": "Python 3",
   "language": "python",
   "name": "python3"
  },
  "language_info": {
   "codemirror_mode": {
    "name": "ipython",
    "version": 3
   },
   "file_extension": ".py",
   "mimetype": "text/x-python",
   "name": "python",
   "nbconvert_exporter": "python",
   "pygments_lexer": "ipython3",
   "version": "3.8.2"
  }
 },
 "nbformat": 4,
 "nbformat_minor": 1
}