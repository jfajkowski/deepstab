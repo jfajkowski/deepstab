{
 "cells": [
  {
   "cell_type": "code",
   "execution_count": 1,
   "metadata": {
    "collapsed": true
   },
   "outputs": [],
   "source": [
    "from os.path import dirname, basename\n",
    "\n",
    "import pandas as pd\n",
    "\n",
    "from inpainting.load import load_dataframe\n",
    "from inpainting.utils import get_paths"
   ]
  },
  {
   "cell_type": "code",
   "execution_count": 2,
   "metadata": {
    "pycharm": {
     "name": "#%%\n"
    }
   },
   "outputs": [
    {
     "data": {
      "text/plain": "      frame_id  endpoint_error          model           sequence_name  \\\n0            0        0.063743  fi_kernelfill  alley_1_dance-jump_001   \n1            1        0.098041  fi_kernelfill  alley_1_dance-jump_001   \n2            2        0.083800  fi_kernelfill  alley_1_dance-jump_001   \n3            3        0.083242  fi_kernelfill  alley_1_dance-jump_001   \n4            4        0.081349  fi_kernelfill  alley_1_dance-jump_001   \n...        ...             ...            ...                     ...   \n8431        44        0.192081  fi_regionfill    temple_3_tuk-tuk_002   \n8432        45        0.196040  fi_regionfill    temple_3_tuk-tuk_002   \n8433        46        0.313119  fi_regionfill    temple_3_tuk-tuk_002   \n8434        47        0.218333  fi_regionfill    temple_3_tuk-tuk_002   \n8435        48        0.296521  fi_regionfill    temple_3_tuk-tuk_002   \n\n      inference_time  \n0         867.045288  \n1         650.817139  \n2         732.985596  \n3         758.956726  \n4         640.149902  \n...              ...  \n8431      101.083168  \n8432       90.859741  \n8433       85.038658  \n8434       90.871811  \n8435       65.745087  \n\n[8436 rows x 5 columns]",
      "text/html": "<div>\n<style scoped>\n    .dataframe tbody tr th:only-of-type {\n        vertical-align: middle;\n    }\n\n    .dataframe tbody tr th {\n        vertical-align: top;\n    }\n\n    .dataframe thead th {\n        text-align: right;\n    }\n</style>\n<table border=\"1\" class=\"dataframe\">\n  <thead>\n    <tr style=\"text-align: right;\">\n      <th></th>\n      <th>frame_id</th>\n      <th>endpoint_error</th>\n      <th>model</th>\n      <th>sequence_name</th>\n      <th>inference_time</th>\n    </tr>\n  </thead>\n  <tbody>\n    <tr>\n      <th>0</th>\n      <td>0</td>\n      <td>0.063743</td>\n      <td>fi_kernelfill</td>\n      <td>alley_1_dance-jump_001</td>\n      <td>867.045288</td>\n    </tr>\n    <tr>\n      <th>1</th>\n      <td>1</td>\n      <td>0.098041</td>\n      <td>fi_kernelfill</td>\n      <td>alley_1_dance-jump_001</td>\n      <td>650.817139</td>\n    </tr>\n    <tr>\n      <th>2</th>\n      <td>2</td>\n      <td>0.083800</td>\n      <td>fi_kernelfill</td>\n      <td>alley_1_dance-jump_001</td>\n      <td>732.985596</td>\n    </tr>\n    <tr>\n      <th>3</th>\n      <td>3</td>\n      <td>0.083242</td>\n      <td>fi_kernelfill</td>\n      <td>alley_1_dance-jump_001</td>\n      <td>758.956726</td>\n    </tr>\n    <tr>\n      <th>4</th>\n      <td>4</td>\n      <td>0.081349</td>\n      <td>fi_kernelfill</td>\n      <td>alley_1_dance-jump_001</td>\n      <td>640.149902</td>\n    </tr>\n    <tr>\n      <th>...</th>\n      <td>...</td>\n      <td>...</td>\n      <td>...</td>\n      <td>...</td>\n      <td>...</td>\n    </tr>\n    <tr>\n      <th>8431</th>\n      <td>44</td>\n      <td>0.192081</td>\n      <td>fi_regionfill</td>\n      <td>temple_3_tuk-tuk_002</td>\n      <td>101.083168</td>\n    </tr>\n    <tr>\n      <th>8432</th>\n      <td>45</td>\n      <td>0.196040</td>\n      <td>fi_regionfill</td>\n      <td>temple_3_tuk-tuk_002</td>\n      <td>90.859741</td>\n    </tr>\n    <tr>\n      <th>8433</th>\n      <td>46</td>\n      <td>0.313119</td>\n      <td>fi_regionfill</td>\n      <td>temple_3_tuk-tuk_002</td>\n      <td>85.038658</td>\n    </tr>\n    <tr>\n      <th>8434</th>\n      <td>47</td>\n      <td>0.218333</td>\n      <td>fi_regionfill</td>\n      <td>temple_3_tuk-tuk_002</td>\n      <td>90.871811</td>\n    </tr>\n    <tr>\n      <th>8435</th>\n      <td>48</td>\n      <td>0.296521</td>\n      <td>fi_regionfill</td>\n      <td>temple_3_tuk-tuk_002</td>\n      <td>65.745087</td>\n    </tr>\n  </tbody>\n</table>\n<p>8436 rows × 5 columns</p>\n</div>"
     },
     "execution_count": 2,
     "metadata": {},
     "output_type": "execute_result"
    }
   ],
   "source": [
    "dataset = 'MPI-Sintel-complete'\n",
    "results_dirs = get_paths(f'../results/fi/{dataset}/*')\n",
    "\n",
    "times_dfs = []\n",
    "for results_dir in results_dirs:\n",
    "    for path in get_paths(f'{results_dir}/Benchmark/*/inference_times.csv'):\n",
    "        times_df = load_dataframe(path)\n",
    "        times_df['model'] = basename(results_dir)\n",
    "        times_df['sequence_name'] = basename(dirname(path))\n",
    "        times_dfs.append(times_df)\n",
    "times_dfs = pd.concat(times_dfs)\n",
    "\n",
    "results_dfs = []\n",
    "for results_dir in results_dirs:\n",
    "    for path in get_paths(f'{results_dir}/Evaluation/*/results.csv'):\n",
    "        results_df = load_dataframe(path)\n",
    "        results_df['model'] = basename(results_dir)\n",
    "        results_df['sequence_name'] = basename(dirname(path))\n",
    "        results_dfs.append(results_df)\n",
    "results_df = pd.concat(results_dfs)\n",
    "\n",
    "df = pd.merge(results_df, times_dfs, on=['model', 'sequence_name', 'frame_id'])\n",
    "df"
   ]
  },
  {
   "cell_type": "code",
   "execution_count": 3,
   "metadata": {
    "pycharm": {
     "name": "#%%\n"
    }
   },
   "outputs": [
    {
     "data": {
      "text/plain": "               inference_time  endpoint_error\nmodel                                        \nfi_kernelfill      472.092937        0.133474\nfi_regionfill       81.755180        0.114060",
      "text/html": "<div>\n<style scoped>\n    .dataframe tbody tr th:only-of-type {\n        vertical-align: middle;\n    }\n\n    .dataframe tbody tr th {\n        vertical-align: top;\n    }\n\n    .dataframe thead th {\n        text-align: right;\n    }\n</style>\n<table border=\"1\" class=\"dataframe\">\n  <thead>\n    <tr style=\"text-align: right;\">\n      <th></th>\n      <th>inference_time</th>\n      <th>endpoint_error</th>\n    </tr>\n    <tr>\n      <th>model</th>\n      <th></th>\n      <th></th>\n    </tr>\n  </thead>\n  <tbody>\n    <tr>\n      <th>fi_kernelfill</th>\n      <td>472.092937</td>\n      <td>0.133474</td>\n    </tr>\n    <tr>\n      <th>fi_regionfill</th>\n      <td>81.755180</td>\n      <td>0.114060</td>\n    </tr>\n  </tbody>\n</table>\n</div>"
     },
     "execution_count": 3,
     "metadata": {},
     "output_type": "execute_result"
    }
   ],
   "source": [
    "metrics = pd.DataFrame()\n",
    "metrics['model'] = df['model']\n",
    "metrics['sequence_name'] = df['sequence_name']\n",
    "metrics['inference_time'] = df['inference_time']\n",
    "metrics['endpoint_error'] = df['endpoint_error']\n",
    "metrics.groupby('model').mean()\n"
   ]
  }
 ],
 "metadata": {
  "kernelspec": {
   "display_name": "Python 3",
   "language": "python",
   "name": "python3"
  },
  "language_info": {
   "codemirror_mode": {
    "name": "ipython",
    "version": 3
   },
   "file_extension": ".py",
   "mimetype": "text/x-python",
   "name": "python",
   "nbconvert_exporter": "python",
   "pygments_lexer": "ipython3",
   "version": "3.8.2"
  }
 },
 "nbformat": 4,
 "nbformat_minor": 1
}